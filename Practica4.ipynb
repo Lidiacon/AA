{
 "cells": [
  {
   "cell_type": "code",
   "execution_count": 1,
   "metadata": {},
   "outputs": [],
   "source": [
    "%matplotlib notebook\n",
    "import csv\n",
    "from scipy.io import loadmat\n",
    "import numpy as np\n",
    "import scipy.optimize as opt\n",
    "from pandas.io.parsers import read_csv\n",
    "from mpl_toolkits.mplot3d import Axes3D\n",
    "import matplotlib.pyplot as plt\n",
    "from matplotlib import cm\n",
    "from matplotlib.ticker import LinearLocator, FormatStrFormatter\n",
    "from sklearn.preprocessing import PolynomialFeatures"
   ]
  },
  {
   "cell_type": "code",
   "execution_count": 2,
   "metadata": {},
   "outputs": [],
   "source": [
    "data = loadmat('ex4data1.mat')\n",
    "y = data['y']\n",
    "x = data['X']\n",
    "unos = np.full((5000,1),1)\n",
    "weights = loadmat('ex4weights.mat')\n",
    "theta1, theta2 = weights['Theta1'], weights['Theta2']\n",
    "#x = np.append(unos, x, axis=1)\n",
    "params = np.concatenate((np.ravel(theta1),np.ravel(theta2)))"
   ]
  },
  {
   "cell_type": "code",
   "execution_count": 3,
   "metadata": {},
   "outputs": [],
   "source": [
    "def sigmoide(z):\n",
    "    s = np.dot(z,-1)\n",
    "    e = np.exp(s)\n",
    "    d = 1 + e\n",
    "    return 1/d"
   ]
  },
  {
   "cell_type": "code",
   "execution_count": 4,
   "metadata": {},
   "outputs": [],
   "source": [
    "def propagacion(x,theta1, theta2): \n",
    "    m = x.shape[0]\n",
    "    a1 = np.insert(x, 0, values=np.ones(m), axis=1)\n",
    "    z2 = np.matmul(a1, theta1.T)\n",
    "    a2 = np.insert(sigmoide(z2), 0, values=np.ones(m), axis=1)\n",
    "    z3 = np.matmul(a2, theta2.T)\n",
    "    a3 = sigmoide(z3)\n",
    "    return [a1,a2,a3], [z2,z3]"
   ]
  },
  {
   "cell_type": "code",
   "execution_count": 5,
   "metadata": {},
   "outputs": [
    {
     "data": {
      "text/plain": [
       "array([[1.12661530e-04, 1.74127856e-03, 2.52696959e-03, ...,\n",
       "        4.01468105e-04, 6.48072305e-03, 9.95734012e-01],\n",
       "       [4.79026796e-04, 2.41495958e-03, 3.44755685e-03, ...,\n",
       "        2.39107046e-03, 1.97025086e-03, 9.95696931e-01],\n",
       "       [8.85702310e-05, 3.24266731e-03, 2.55419797e-02, ...,\n",
       "        6.22892325e-02, 5.49803551e-03, 9.28008397e-01],\n",
       "       ...,\n",
       "       [5.17641791e-02, 3.81715020e-03, 2.96297510e-02, ...,\n",
       "        2.15667361e-03, 6.49826950e-01, 2.42384687e-05],\n",
       "       [8.30631310e-04, 6.22003774e-04, 3.14518512e-04, ...,\n",
       "        1.19366192e-02, 9.71410499e-01, 2.06173648e-04],\n",
       "       [4.81465717e-05, 4.58821829e-04, 2.15146201e-05, ...,\n",
       "        5.73434571e-03, 6.96288990e-01, 8.18576980e-02]])"
      ]
     },
     "execution_count": 5,
     "metadata": {},
     "output_type": "execute_result"
    }
   ],
   "source": [
    "def propagacion_multi(x,th,n): \n",
    "    a = []\n",
    "    a.append(x)\n",
    "    for i in range(n):\n",
    "        unos = np.full((len(x),1),1)\n",
    "        a[i] = np.append(unos, x, axis=1)\n",
    "        an = sigmoide(np.dot(a[i],th[i]))\n",
    "        x = an\n",
    "        a.append(an)        \n",
    "    return a\n",
    "propagacion_multi(x,[theta1.T, theta2.T],2 )[2]"
   ]
  },
  {
   "cell_type": "code",
   "execution_count": 6,
   "metadata": {},
   "outputs": [],
   "source": [
    "def testeo(y, f):\n",
    "    acertados = 0\n",
    "    for i in range(len(y)):\n",
    "        if np.argmax(f[i])+1 == y[i]:\n",
    "            acertados +=1\n",
    "    return acertados, acertados/len(y)*100"
   ]
  },
  {
   "cell_type": "code",
   "execution_count": 7,
   "metadata": {},
   "outputs": [],
   "source": [
    "def norm(y,num_etiqueta):\n",
    "    y_norm = np.zeros((len(y),num_etiqueta))\n",
    "    for i in range(len(y)):\n",
    "        y_norm[i][y[i]-1]= 1\n",
    "    return np.transpose(y_norm)"
   ]
  },
  {
   "cell_type": "code",
   "execution_count": 8,
   "metadata": {},
   "outputs": [
    {
     "data": {
      "text/plain": [
       "0.38376985909092365"
      ]
     },
     "execution_count": 8,
     "metadata": {},
     "output_type": "execute_result"
    }
   ],
   "source": [
    "def coste(theta1,theta2,x,y,num_etiqueta, reg):\n",
    "    y = norm(y,num_etiqueta)\n",
    "    #g = np.copy(propagacion(propagacion(x,theta1.T),theta2.T))\n",
    "    g = propagacion_multi(x,[theta1.T,theta2.T],2)[2]\n",
    "    t1 = np.sum(np.multiply(-y.T,np.log(g)) - np.multiply((1-y.T),np.log(1-g)))/len(x)\n",
    "    t2 = (np.sum(theta1[:,1:]**2) + np.sum(theta2[:,1:]**2))*reg/(2*len(x))\n",
    "    return t1+t2\n",
    "coste(theta1,theta2,x,y,10,1)"
   ]
  },
  {
   "cell_type": "code",
   "execution_count": 9,
   "metadata": {},
   "outputs": [],
   "source": [
    "def forward_propagate(X, theta1, theta2):\n",
    "    m = X.shape[0]\n",
    "\n",
    "    a1 = np.insert(X, 0, values=np.ones(m), axis=1)\n",
    "    z2 = np.matmul(a1, theta1.T)\n",
    "    a2 = np.insert(sigmoide(z2), 0, values=np.ones(m), axis=1)\n",
    "    z3 = np.matmul(a2, theta2.T)\n",
    "    h = sigmoide(z3)\n",
    "\n",
    "    return a1, z2, a2, z3, h"
   ]
  },
  {
   "cell_type": "code",
   "execution_count": 10,
   "metadata": {},
   "outputs": [],
   "source": [
    "def deriv_sig(z):\n",
    "    return np.multiply(sigmoide(z),1-sigmoide(z))"
   ]
  },
  {
   "cell_type": "code",
   "execution_count": 11,
   "metadata": {},
   "outputs": [],
   "source": [
    "def pesosAleatorios(L_in, L_out, e=0.12):\n",
    "    return 2*e*np.random.random_sample((L_out, L_in)) - e"
   ]
  },
  {
   "cell_type": "code",
   "execution_count": 12,
   "metadata": {},
   "outputs": [
    {
     "data": {
      "text/plain": [
       "(401, 25)"
      ]
     },
     "execution_count": 12,
     "metadata": {},
     "output_type": "execute_result"
    }
   ],
   "source": [
    "thr1 = pesosAleatorios(theta1.shape[0], theta1.shape[1])\n",
    "thr2 = pesosAleatorios(theta2.shape[0], theta2.shape[1])\n",
    "thr1.shape"
   ]
  },
  {
   "cell_type": "code",
   "execution_count": 13,
   "metadata": {},
   "outputs": [],
   "source": [
    "def retro_propagacion(x,y,th1,th2, reg):\n",
    "    a,z = propagacion(x,th1,th2)\n",
    "    d3 = a[2]-y\n",
    "    z2 = np.insert(z[0], 0, values=np.ones(1), axis=1)    \n",
    "    d2 = np.multiply(np.dot(d3, th2),deriv_sig(z2))\n",
    "    d2_aux = np.copy(d2[:,1:])\n",
    "    \n",
    "    delta1 = np.zeros(th1.shape)\n",
    "    delta2 = np.zeros(th2.shape)\n",
    "    delta1 += np.dot(d2_aux.T, a[0])\n",
    "    delta2 += np.dot(d3.T, a[1])\n",
    "    \n",
    "    \n",
    "    delta1 = delta1/len(x)\n",
    "    delta2 = delta2/len(x)\n",
    "    delta1[:, 1:] = delta1[:, 1:] + (th1[:, 1:] * reg) / len(x)\n",
    "    delta2[:, 1:] = delta2[:, 1:] + (th2[:, 1:] * reg) / len(x)    \n",
    "    \n",
    "    return np.concatenate((np.ravel(delta1), np.ravel(delta2)))"
   ]
  },
  {
   "cell_type": "code",
   "execution_count": 14,
   "metadata": {},
   "outputs": [],
   "source": [
    "def backprop (params_rn, num_entradas, num_ocultas, num_etiquetas, x, y, reg = 1):\n",
    "    theta1 = np.reshape(params_rn[:num_ocultas*(num_entradas+1)], (num_ocultas, (num_entradas+1)))\n",
    "    theta2 = np.reshape(params_rn[num_ocultas*(num_entradas+1):], (num_etiquetas, (num_ocultas+1)))\n",
    "    cost = coste(theta1,theta2,x,y, num_etiquetas,reg)\n",
    "    y = norm(y, num_etiquetas).T\n",
    "    grad = retro_propagacion(x,y,theta1,theta2, reg)\n",
    "    return (cost, grad)"
   ]
  },
  {
   "cell_type": "code",
   "execution_count": 15,
   "metadata": {},
   "outputs": [
    {
     "data": {
      "text/plain": [
       "(0.38376985909092365,\n",
       " array([ 6.18712766e-05, -2.11248326e-12,  4.38829369e-13, ...,\n",
       "         4.70513145e-05, -5.01718610e-04,  5.07825789e-04]))"
      ]
     },
     "execution_count": 15,
     "metadata": {},
     "output_type": "execute_result"
    }
   ],
   "source": [
    "backprop(params,theta1.shape[1]-1,theta2.shape[1]-1,10,x,y)"
   ]
  },
  {
   "cell_type": "code",
   "execution_count": 16,
   "metadata": {},
   "outputs": [
    {
     "data": {
      "text/plain": [
       "(25, 401)"
      ]
     },
     "execution_count": 16,
     "metadata": {},
     "output_type": "execute_result"
    }
   ],
   "source": [
    "#rp = retro_propagacion(x,y,thr1,thr2)\n",
    "theta1.shape"
   ]
  },
  {
   "cell_type": "code",
   "execution_count": 17,
   "metadata": {},
   "outputs": [],
   "source": [
    "# %load checkNNGradients.py\n",
    "\n",
    "import numpy as np\n",
    "\n",
    "\n",
    "def debugInitializeWeights(fan_in, fan_out):\n",
    "    \"\"\"\n",
    "    Initializes the weights of a layer with fan_in incoming connections and\n",
    "    fan_out outgoing connections using a fixed set of values.\n",
    "    \"\"\"\n",
    "\n",
    "    # Set W to zero matrix\n",
    "    W = np.zeros((fan_out, fan_in + 1))\n",
    "\n",
    "    # Initialize W using \"sin\". This ensures that W is always of the same\n",
    "    # values and will be useful in debugging.\n",
    "    W = np.array([np.sin(w) for w in\n",
    "                  range(np.size(W))]).reshape((np.size(W, 0), np.size(W, 1)))\n",
    "\n",
    "    return W\n",
    "\n",
    "\n",
    "def computeNumericalGradient(J, theta):\n",
    "    \"\"\"\n",
    "    Computes the gradient of J around theta using finite differences and\n",
    "    yields a numerical estimate of the gradient.\n",
    "    \"\"\"\n",
    "\n",
    "    numgrad = np.zeros_like(theta)\n",
    "    perturb = np.zeros_like(theta)\n",
    "    tol = 1e-4\n",
    "\n",
    "    for p in range(len(theta)):\n",
    "        # Set perturbation vector\n",
    "        perturb[p] = tol\n",
    "        loss1 = J(theta - perturb)\n",
    "        loss2 = J(theta + perturb)\n",
    "\n",
    "        # Compute numerical gradient\n",
    "        numgrad[p] = (loss2 - loss1) / (2 * tol)\n",
    "        perturb[p] = 0\n",
    "\n",
    "    return numgrad\n",
    "\n",
    "\n",
    "def checkNNGradients(costNN, reg_param):\n",
    "    \"\"\"\n",
    "    Creates a small neural network to check the back propogation gradients.\n",
    "    Outputs the analytical gradients produced by the back prop code and the\n",
    "    numerical gradients computed using the computeNumericalGradient function.\n",
    "    These should result in very similar values.\n",
    "    \"\"\"\n",
    "    # Set up small NN\n",
    "    input_layer_size = 3\n",
    "    hidden_layer_size = 5\n",
    "    num_labels = 3\n",
    "    m = 5\n",
    "\n",
    "    # Generate some random test data\n",
    "    Theta1 = debugInitializeWeights(hidden_layer_size, input_layer_size)\n",
    "    Theta2 = debugInitializeWeights(num_labels, hidden_layer_size)\n",
    "\n",
    "    # Reusing debugInitializeWeights to get random X\n",
    "    X = debugInitializeWeights(input_layer_size - 1, m)\n",
    "\n",
    "    # Set each element of y to be in [0,num_labels]\n",
    "    y = [(i % num_labels) for i in range(m)]\n",
    "\n",
    "    # Unroll parameters\n",
    "    nn_params = np.append(Theta1, Theta2).reshape(-1)\n",
    "\n",
    "    # Compute Cost\n",
    "    cost, grad = costNN(nn_params,\n",
    "                        input_layer_size,\n",
    "                        hidden_layer_size,\n",
    "                        num_labels,\n",
    "                        X, y, reg_param)\n",
    "\n",
    "    def reduced_cost_func(p):\n",
    "        \"\"\" Cheaply decorated nnCostFunction \"\"\"\n",
    "        return costNN(p, input_layer_size, hidden_layer_size, num_labels,\n",
    "                      X, y, reg_param)[0]\n",
    "\n",
    "    numgrad = computeNumericalGradient(reduced_cost_func, nn_params)\n",
    "\n",
    "    # Check two gradients\n",
    "    np.testing.assert_almost_equal(grad, numgrad)\n",
    "    return (grad - numgrad)\n"
   ]
  },
  {
   "cell_type": "code",
   "execution_count": 18,
   "metadata": {},
   "outputs": [
    {
     "data": {
      "text/plain": [
       "array([ 5.33180305e-11, -6.32005559e-12,  7.24889593e-12,  3.16212473e-11,\n",
       "       -5.61471286e-11, -7.70522535e-13, -2.00906097e-11, -4.52287652e-11,\n",
       "       -9.29274990e-11,  8.64616712e-12, -4.49352777e-11, -1.24982691e-10,\n",
       "       -2.87552759e-11,  1.35198797e-12, -8.76765327e-12, -3.30088457e-11,\n",
       "        2.88099891e-11, -4.41852110e-12,  1.90355995e-11,  3.57186503e-11,\n",
       "        6.48169574e-11,  1.87805604e-11,  6.44100051e-12,  4.36871372e-12,\n",
       "        1.56729490e-11,  2.27871055e-11,  6.80207002e-11,  1.93718375e-11,\n",
       "        5.49517376e-12,  1.61996527e-11,  1.37830442e-11,  1.94179950e-11,\n",
       "        7.68222708e-11,  1.54377344e-11,  4.10361328e-12,  1.71889447e-11,\n",
       "        1.63800640e-11,  2.18030316e-11])"
      ]
     },
     "execution_count": 18,
     "metadata": {},
     "output_type": "execute_result"
    }
   ],
   "source": [
    "checkNNGradients(backprop, 1)"
   ]
  },
  {
   "cell_type": "code",
   "execution_count": 19,
   "metadata": {},
   "outputs": [],
   "source": [
    "# %load displayData.py\n",
    "\n",
    "import matplotlib.pyplot as plt\n",
    "import numpy as np\n",
    "\n",
    "\n",
    "def displayData(X):\n",
    "    num_plots = int(np.size(X, 0)**.5)\n",
    "    fig, ax = plt.subplots(num_plots, num_plots, sharex=True, sharey=True)\n",
    "    plt.subplots_adjust(left=0, wspace=0, hspace=0)\n",
    "    img_num = 0\n",
    "    for i in range(num_plots):\n",
    "        for j in range(num_plots):\n",
    "            # Convert column vector into 20x20 pixel matrix\n",
    "            # transpose\n",
    "            img = X[img_num, :].reshape(20, 20).T\n",
    "            ax[i][j].imshow(img, cmap='Greys')\n",
    "            ax[i][j].set_axis_off()\n",
    "            img_num += 1\n",
    "\n",
    "    return (fig, ax)\n",
    "\n",
    "\n",
    "def displayImage(im):\n",
    "    fig2, ax2 = plt.subplots()\n",
    "    image = im.reshape(20, 20).T\n",
    "    ax2.imshow(image, cmap='gray')\n",
    "    return (fig2, ax2)\n"
   ]
  },
  {
   "cell_type": "code",
   "execution_count": null,
   "metadata": {},
   "outputs": [],
   "source": []
  },
  {
   "cell_type": "code",
   "execution_count": 20,
   "metadata": {},
   "outputs": [],
   "source": [
    "fmin = opt.minimize(fun=backprop, x0= params, args=(theta1.shape[1]-1,theta2.shape[1]-1,10, x, y, 1), method='TNC', jac=True, options={'maxiter': 70})"
   ]
  },
  {
   "cell_type": "code",
   "execution_count": 21,
   "metadata": {},
   "outputs": [],
   "source": [
    "def testeofinal (params_rn, num_entradas, num_ocultas, num_etiquetas, x, y, reg = 1):\n",
    "    theta1 = np.reshape(params_rn[:num_ocultas*(num_entradas+1)], (num_ocultas, (num_entradas+1)))\n",
    "    theta2 = np.reshape(params_rn[num_ocultas*(num_entradas+1):], (num_etiquetas, (num_ocultas+1)))\n",
    "    f = propagacion_multi(x,[theta1.T, theta2.T],2)\n",
    "    return testeo(y,f[2])"
   ]
  },
  {
   "cell_type": "code",
   "execution_count": 22,
   "metadata": {},
   "outputs": [
    {
     "data": {
      "text/plain": [
       "(4966, 99.32)"
      ]
     },
     "execution_count": 22,
     "metadata": {},
     "output_type": "execute_result"
    }
   ],
   "source": [
    "testeofinal(fmin.x,theta1.shape[1]-1,theta2.shape[1]-1,10,x,y)"
   ]
  },
  {
   "cell_type": "code",
   "execution_count": 23,
   "metadata": {},
   "outputs": [
    {
     "data": {
      "text/plain": [
       "5000"
      ]
     },
     "execution_count": 23,
     "metadata": {},
     "output_type": "execute_result"
    }
   ],
   "source": [
    "y.size"
   ]
  },
  {
   "cell_type": "code",
   "execution_count": null,
   "metadata": {},
   "outputs": [],
   "source": []
  }
 ],
 "metadata": {
  "kernelspec": {
   "display_name": "Python 3",
   "language": "python",
   "name": "python3"
  },
  "language_info": {
   "codemirror_mode": {
    "name": "ipython",
    "version": 3
   },
   "file_extension": ".py",
   "mimetype": "text/x-python",
   "name": "python",
   "nbconvert_exporter": "python",
   "pygments_lexer": "ipython3",
   "version": "3.6.7"
  }
 },
 "nbformat": 4,
 "nbformat_minor": 2
}
