{
 "cells": [
  {
   "cell_type": "code",
   "execution_count": 214,
   "metadata": {},
   "outputs": [],
   "source": [
    "%matplotlib notebook\n",
    "import csv\n",
    "from scipy.io import loadmat\n",
    "import numpy as np\n",
    "import scipy.optimize as opt\n",
    "from pandas.io.parsers import read_csv\n",
    "from mpl_toolkits.mplot3d import Axes3D\n",
    "import matplotlib.pyplot as plt\n",
    "from matplotlib import cm\n",
    "from matplotlib.ticker import LinearLocator, FormatStrFormatter\n",
    "from sklearn.preprocessing import PolynomialFeatures"
   ]
  },
  {
   "cell_type": "code",
   "execution_count": 215,
   "metadata": {},
   "outputs": [
    {
     "data": {
      "text/plain": [
       "(25, 401)"
      ]
     },
     "execution_count": 215,
     "metadata": {},
     "output_type": "execute_result"
    }
   ],
   "source": [
    "data = loadmat('../ex4data1.mat')\n",
    "y = data['y']\n",
    "x = data['X']\n",
    "unos = np.full((5000,1),1)\n",
    "weights = loadmat('../ex4weights.mat')\n",
    "theta1, theta2 = weights['Theta1'], weights['Theta2']\n",
    "#x = np.append(unos, x, axis=1)\n",
    "params = np.concatenate((np.ravel(theta1),np.ravel(theta2)))\n",
    "theta1.shape"
   ]
  },
  {
   "cell_type": "code",
   "execution_count": 216,
   "metadata": {},
   "outputs": [],
   "source": [
    "def sigmoide(z):\n",
    "    s = np.dot(z,-1)\n",
    "    e = np.exp(s)\n",
    "    d = 1 + e\n",
    "    return 1/d"
   ]
  },
  {
   "cell_type": "code",
   "execution_count": 264,
   "metadata": {},
   "outputs": [],
   "source": [
    "def propagacion(x,th): \n",
    "    unos = np.full((len(x),1),1)\n",
    "    x = np.append(unos, x, axis=1)\n",
    "    a2 = sigmoide(np.dot(x,th[0]))\n",
    "    unos = np.full((len(a2),1),1)\n",
    "    x = np.append(unos, a2, axis=1)\n",
    "    a3 = sigmoide(np.dot(x,th[1]))\n",
    "    return a2, a3"
   ]
  },
  {
   "cell_type": "code",
   "execution_count": 265,
   "metadata": {},
   "outputs": [
    {
     "data": {
      "text/plain": [
       "array([[1.12661530e-04, 1.74127856e-03, 2.52696959e-03, ...,\n",
       "        4.01468105e-04, 6.48072305e-03, 9.95734012e-01],\n",
       "       [4.79026796e-04, 2.41495958e-03, 3.44755685e-03, ...,\n",
       "        2.39107046e-03, 1.97025086e-03, 9.95696931e-01],\n",
       "       [8.85702310e-05, 3.24266731e-03, 2.55419797e-02, ...,\n",
       "        6.22892325e-02, 5.49803551e-03, 9.28008397e-01],\n",
       "       ...,\n",
       "       [5.17641791e-02, 3.81715020e-03, 2.96297510e-02, ...,\n",
       "        2.15667361e-03, 6.49826950e-01, 2.42384687e-05],\n",
       "       [8.30631310e-04, 6.22003774e-04, 3.14518512e-04, ...,\n",
       "        1.19366192e-02, 9.71410499e-01, 2.06173648e-04],\n",
       "       [4.81465717e-05, 4.58821829e-04, 2.15146201e-05, ...,\n",
       "        5.73434571e-03, 6.96288990e-01, 8.18576980e-02]])"
      ]
     },
     "execution_count": 265,
     "metadata": {},
     "output_type": "execute_result"
    }
   ],
   "source": [
    "def propagacion_multi(x,th,n): \n",
    "    a = []\n",
    "    a.append(x)\n",
    "    for i in range(n):\n",
    "        unos = np.full((len(x),1),1)\n",
    "        a[i] = np.append(unos, x, axis=1)\n",
    "        an = sigmoide(np.dot(a[i],th[i]))\n",
    "        x = an\n",
    "        a.append(an)        \n",
    "    return a\n",
    "propagacion_multi(x,[theta1.T, theta2.T], 2)[2]"
   ]
  },
  {
   "cell_type": "code",
   "execution_count": 266,
   "metadata": {},
   "outputs": [],
   "source": [
    "def testeo(y, f):\n",
    "    acertados = 0\n",
    "    for i in range(len(y)):\n",
    "        if np.argmax(f[i])+1 == y[i]:\n",
    "            acertados +=1\n",
    "    return acertados, acertados/len(y)*100"
   ]
  },
  {
   "cell_type": "code",
   "execution_count": 267,
   "metadata": {},
   "outputs": [],
   "source": [
    "def norm(y,num_etiqueta):\n",
    "    y_norm = np.zeros((len(y),num_etiqueta))\n",
    "    for i in range(len(y)):\n",
    "        y_norm[i][y[i]-1]= 1\n",
    "    return np.transpose(y_norm)"
   ]
  },
  {
   "cell_type": "code",
   "execution_count": 268,
   "metadata": {},
   "outputs": [],
   "source": [
    "def coste(theta1,theta2,x,y,num_etiqueta, reg):\n",
    "    y = norm(y,num_etiqueta)\n",
    "    #g = np.copy(propagacion(propagacion(x,theta1.T),theta2.T))\n",
    "    g = propagacion_multi(x,[theta1.T,theta2.T],2)[2]\n",
    "    t1 = np.sum(np.multiply(-y.T,np.log(g)) - np.multiply((1-y.T),np.log(1-g)))/len(x)\n",
    "    t2 = (np.sum(theta1**2) + np.sum(theta2**2))*reg/(2*len(x))\n",
    "    return t1+t2"
   ]
  },
  {
   "cell_type": "code",
   "execution_count": 269,
   "metadata": {},
   "outputs": [],
   "source": [
    "def deriv_sig(z):\n",
    "    return np.multiply(sigmoide(z),1-sigmoide(z))"
   ]
  },
  {
   "cell_type": "code",
   "execution_count": 270,
   "metadata": {},
   "outputs": [],
   "source": [
    "def pesosAleatorios(L_in, L_out, e=0.12):\n",
    "    return 2*e*np.random.random_sample((L_out, L_in)) - e"
   ]
  },
  {
   "cell_type": "code",
   "execution_count": 271,
   "metadata": {},
   "outputs": [
    {
     "data": {
      "text/plain": [
       "(401, 25)"
      ]
     },
     "execution_count": 271,
     "metadata": {},
     "output_type": "execute_result"
    }
   ],
   "source": [
    "thr1 = pesosAleatorios(theta1.shape[0], theta1.shape[1])\n",
    "thr2 = pesosAleatorios(theta2.shape[0], theta2.shape[1])\n",
    "thr1.shape"
   ]
  },
  {
   "cell_type": "code",
   "execution_count": 289,
   "metadata": {},
   "outputs": [],
   "source": [
    "def retro_propagacion(x,y,th1,th2):\n",
    "    y = norm(y,10)\n",
    "    delta = []\n",
    "    a = propagacion_multi(x,[th1,th2],2)\n",
    "    d3 = a[2]-y.T\n",
    "    d2 = np.multiply(np.dot(d3, th2.T),deriv_sig(sigmoide(a[1])))\n",
    "    d2_aux = np.copy(d2[:,1:])\n",
    "    \n",
    "    delta.append(np.sum(np.dot((x[:,1:]).T, d2_aux))/len(x))\n",
    "    delta.append(np.sum(np.dot(a[1].T, d3))/len(x))\n",
    "    #delta.append(np.sum((th1[1:] + np.dot(d2.T,x[:,1:])[1:].T)/len(x)))\n",
    "    #delta.append(np.sum((th2[1:] + np.dot(d3.T,a2)[:,1:].T/len(x))))\n",
    "    \n",
    "    return delta"
   ]
  },
  {
   "cell_type": "code",
   "execution_count": 290,
   "metadata": {},
   "outputs": [],
   "source": [
    "def backprop (params_rn, num_entradas, num_ocultas, num_etiquetas, x, y, reg = 1):\n",
    "    theta1 = np.reshape(params_rn[:num_ocultas*(num_entradas+1)], (num_ocultas, (num_entradas+1)))\n",
    "    theta2 = np.reshape(params_rn[num_ocultas*(num_entradas+1):], (num_etiquetas, (num_ocultas+1)))\n",
    "    cost = coste(theta1,theta2,x,y,num_etiquetas, reg)\n",
    "    grad = retro_propagacion(x,y,theta1.T,theta2.T)\n",
    "    return (cost, grad)"
   ]
  },
  {
   "cell_type": "code",
   "execution_count": 291,
   "metadata": {},
   "outputs": [
    {
     "data": {
      "text/plain": [
       "(0.384487796242894, [-0.7350746807683342, 0.06882195903877374])"
      ]
     },
     "execution_count": 291,
     "metadata": {},
     "output_type": "execute_result"
    }
   ],
   "source": [
    "backprop(params,theta1.shape[1]-1,theta2.shape[1]-1,10,x,y)"
   ]
  },
  {
   "cell_type": "code",
   "execution_count": 292,
   "metadata": {},
   "outputs": [
    {
     "data": {
      "text/plain": [
       "(25, 401)"
      ]
     },
     "execution_count": 292,
     "metadata": {},
     "output_type": "execute_result"
    }
   ],
   "source": [
    "#rp = retro_propagacion(x,y,thr1,thr2)\n",
    "theta1.shape"
   ]
  },
  {
   "cell_type": "code",
   "execution_count": 293,
   "metadata": {},
   "outputs": [],
   "source": [
    "# %load checkNNGradients.py\n",
    "\n",
    "import numpy as np\n",
    "\n",
    "\n",
    "def debugInitializeWeights(fan_in, fan_out):\n",
    "    \"\"\"\n",
    "    Initializes the weights of a layer with fan_in incoming connections and\n",
    "    fan_out outgoing connections using a fixed set of values.\n",
    "    \"\"\"\n",
    "\n",
    "    # Set W to zero matrix\n",
    "    W = np.zeros((fan_out, fan_in + 1))\n",
    "\n",
    "    # Initialize W using \"sin\". This ensures that W is always of the same\n",
    "    # values and will be useful in debugging.\n",
    "    W = np.array([np.sin(w) for w in\n",
    "                  range(np.size(W))]).reshape((np.size(W, 0), np.size(W, 1)))\n",
    "\n",
    "    return W\n",
    "\n",
    "\n",
    "def computeNumericalGradient(J, theta):\n",
    "    \"\"\"\n",
    "    Computes the gradient of J around theta using finite differences and\n",
    "    yields a numerical estimate of the gradient.\n",
    "    \"\"\"\n",
    "\n",
    "    numgrad = np.zeros_like(theta)\n",
    "    perturb = np.zeros_like(theta)\n",
    "    tol = 1e-4\n",
    "\n",
    "    for p in range(len(theta)):\n",
    "        # Set perturbation vector\n",
    "        perturb[p] = tol\n",
    "        loss1 = J(theta - perturb)\n",
    "        loss2 = J(theta + perturb)\n",
    "\n",
    "        # Compute numerical gradient\n",
    "        numgrad[p] = (loss2 - loss1) / (2 * tol)\n",
    "        perturb[p] = 0\n",
    "\n",
    "    return numgrad\n",
    "\n",
    "\n",
    "def checkNNGradients(costNN, reg_param):\n",
    "    \"\"\"\n",
    "    Creates a small neural network to check the back propogation gradients.\n",
    "    Outputs the analytical gradients produced by the back prop code and the\n",
    "    numerical gradients computed using the computeNumericalGradient function.\n",
    "    These should result in very similar values.\n",
    "    \"\"\"\n",
    "    # Set up small NN\n",
    "    input_layer_size = 3\n",
    "    hidden_layer_size = 5\n",
    "    num_labels = 3\n",
    "    m = 5\n",
    "\n",
    "    # Generate some random test data\n",
    "    Theta1 = debugInitializeWeights(hidden_layer_size, input_layer_size)\n",
    "    Theta2 = debugInitializeWeights(num_labels, hidden_layer_size)\n",
    "\n",
    "    # Reusing debugInitializeWeights to get random X\n",
    "    X = debugInitializeWeights(input_layer_size - 1, m)\n",
    "\n",
    "    # Set each element of y to be in [0,num_labels]\n",
    "    y = [(i % num_labels) for i in range(m)]\n",
    "\n",
    "    # Unroll parameters\n",
    "    nn_params = np.append(Theta1, Theta2).reshape(-1)\n",
    "\n",
    "    # Compute Cost\n",
    "    cost, grad = costNN(nn_params,\n",
    "                        input_layer_size,\n",
    "                        hidden_layer_size,\n",
    "                        num_labels,\n",
    "                        X, y, reg_param)\n",
    "\n",
    "    def reduced_cost_func(p):\n",
    "        \"\"\" Cheaply decorated nnCostFunction \"\"\"\n",
    "        return costNN(p, input_layer_size, hidden_layer_size, num_labels,\n",
    "                      X, y, reg_param)[0]\n",
    "\n",
    "    numgrad = computeNumericalGradient(reduced_cost_func, nn_params)\n",
    "\n",
    "    # Check two gradients\n",
    "    np.testing.assert_almost_equal(grad, numgrad)\n",
    "    return (grad - numgrad)\n"
   ]
  },
  {
   "cell_type": "code",
   "execution_count": 294,
   "metadata": {},
   "outputs": [
    {
     "ename": "ValueError",
     "evalue": "operands could not be broadcast together with shapes (5,3) (5,10) ",
     "output_type": "error",
     "traceback": [
      "\u001b[1;31m---------------------------------------------------------------------------\u001b[0m",
      "\u001b[1;31mValueError\u001b[0m                                Traceback (most recent call last)",
      "\u001b[1;32m<ipython-input-294-fb1972eef0bd>\u001b[0m in \u001b[0;36m<module>\u001b[1;34m()\u001b[0m\n\u001b[1;32m----> 1\u001b[1;33m \u001b[0mcheckNNGradients\u001b[0m\u001b[1;33m(\u001b[0m\u001b[0mbackprop\u001b[0m\u001b[1;33m,\u001b[0m \u001b[1;36m1\u001b[0m\u001b[1;33m)\u001b[0m\u001b[1;33m\u001b[0m\u001b[0m\n\u001b[0m",
      "\u001b[1;32m<ipython-input-293-4949f908e3a9>\u001b[0m in \u001b[0;36mcheckNNGradients\u001b[1;34m(costNN, reg_param)\u001b[0m\n\u001b[0;32m     75\u001b[0m                         \u001b[0mhidden_layer_size\u001b[0m\u001b[1;33m,\u001b[0m\u001b[1;33m\u001b[0m\u001b[0m\n\u001b[0;32m     76\u001b[0m                         \u001b[0mnum_labels\u001b[0m\u001b[1;33m,\u001b[0m\u001b[1;33m\u001b[0m\u001b[0m\n\u001b[1;32m---> 77\u001b[1;33m                         X, y, reg_param)\n\u001b[0m\u001b[0;32m     78\u001b[0m \u001b[1;33m\u001b[0m\u001b[0m\n\u001b[0;32m     79\u001b[0m     \u001b[1;32mdef\u001b[0m \u001b[0mreduced_cost_func\u001b[0m\u001b[1;33m(\u001b[0m\u001b[0mp\u001b[0m\u001b[1;33m)\u001b[0m\u001b[1;33m:\u001b[0m\u001b[1;33m\u001b[0m\u001b[0m\n",
      "\u001b[1;32m<ipython-input-290-a30ff405e8d7>\u001b[0m in \u001b[0;36mbackprop\u001b[1;34m(params_rn, num_entradas, num_ocultas, num_etiquetas, x, y, reg)\u001b[0m\n\u001b[0;32m      3\u001b[0m     \u001b[0mtheta2\u001b[0m \u001b[1;33m=\u001b[0m \u001b[0mnp\u001b[0m\u001b[1;33m.\u001b[0m\u001b[0mreshape\u001b[0m\u001b[1;33m(\u001b[0m\u001b[0mparams_rn\u001b[0m\u001b[1;33m[\u001b[0m\u001b[0mnum_ocultas\u001b[0m\u001b[1;33m*\u001b[0m\u001b[1;33m(\u001b[0m\u001b[0mnum_entradas\u001b[0m\u001b[1;33m+\u001b[0m\u001b[1;36m1\u001b[0m\u001b[1;33m)\u001b[0m\u001b[1;33m:\u001b[0m\u001b[1;33m]\u001b[0m\u001b[1;33m,\u001b[0m \u001b[1;33m(\u001b[0m\u001b[0mnum_etiquetas\u001b[0m\u001b[1;33m,\u001b[0m \u001b[1;33m(\u001b[0m\u001b[0mnum_ocultas\u001b[0m\u001b[1;33m+\u001b[0m\u001b[1;36m1\u001b[0m\u001b[1;33m)\u001b[0m\u001b[1;33m)\u001b[0m\u001b[1;33m)\u001b[0m\u001b[1;33m\u001b[0m\u001b[0m\n\u001b[0;32m      4\u001b[0m     \u001b[0mcost\u001b[0m \u001b[1;33m=\u001b[0m \u001b[0mcoste\u001b[0m\u001b[1;33m(\u001b[0m\u001b[0mtheta1\u001b[0m\u001b[1;33m,\u001b[0m\u001b[0mtheta2\u001b[0m\u001b[1;33m,\u001b[0m\u001b[0mx\u001b[0m\u001b[1;33m,\u001b[0m\u001b[0my\u001b[0m\u001b[1;33m,\u001b[0m\u001b[0mnum_etiquetas\u001b[0m\u001b[1;33m,\u001b[0m \u001b[0mreg\u001b[0m\u001b[1;33m)\u001b[0m\u001b[1;33m\u001b[0m\u001b[0m\n\u001b[1;32m----> 5\u001b[1;33m     \u001b[0mgrad\u001b[0m \u001b[1;33m=\u001b[0m \u001b[0mretro_propagacion\u001b[0m\u001b[1;33m(\u001b[0m\u001b[0mx\u001b[0m\u001b[1;33m,\u001b[0m\u001b[0my\u001b[0m\u001b[1;33m,\u001b[0m\u001b[0mtheta1\u001b[0m\u001b[1;33m.\u001b[0m\u001b[0mT\u001b[0m\u001b[1;33m,\u001b[0m\u001b[0mtheta2\u001b[0m\u001b[1;33m.\u001b[0m\u001b[0mT\u001b[0m\u001b[1;33m)\u001b[0m\u001b[1;33m\u001b[0m\u001b[0m\n\u001b[0m\u001b[0;32m      6\u001b[0m     \u001b[1;32mreturn\u001b[0m \u001b[1;33m(\u001b[0m\u001b[0mcost\u001b[0m\u001b[1;33m,\u001b[0m \u001b[0mgrad\u001b[0m\u001b[1;33m)\u001b[0m\u001b[1;33m\u001b[0m\u001b[0m\n",
      "\u001b[1;32m<ipython-input-289-d48dfc12b5ff>\u001b[0m in \u001b[0;36mretro_propagacion\u001b[1;34m(x, y, th1, th2)\u001b[0m\n\u001b[0;32m      3\u001b[0m     \u001b[0mdelta\u001b[0m \u001b[1;33m=\u001b[0m \u001b[1;33m[\u001b[0m\u001b[1;33m]\u001b[0m\u001b[1;33m\u001b[0m\u001b[0m\n\u001b[0;32m      4\u001b[0m     \u001b[0ma\u001b[0m \u001b[1;33m=\u001b[0m \u001b[0mpropagacion_multi\u001b[0m\u001b[1;33m(\u001b[0m\u001b[0mx\u001b[0m\u001b[1;33m,\u001b[0m\u001b[1;33m[\u001b[0m\u001b[0mth1\u001b[0m\u001b[1;33m,\u001b[0m\u001b[0mth2\u001b[0m\u001b[1;33m]\u001b[0m\u001b[1;33m,\u001b[0m\u001b[1;36m2\u001b[0m\u001b[1;33m)\u001b[0m\u001b[1;33m\u001b[0m\u001b[0m\n\u001b[1;32m----> 5\u001b[1;33m     \u001b[0md3\u001b[0m \u001b[1;33m=\u001b[0m \u001b[0ma\u001b[0m\u001b[1;33m[\u001b[0m\u001b[1;36m2\u001b[0m\u001b[1;33m]\u001b[0m\u001b[1;33m-\u001b[0m\u001b[0my\u001b[0m\u001b[1;33m.\u001b[0m\u001b[0mT\u001b[0m\u001b[1;33m\u001b[0m\u001b[0m\n\u001b[0m\u001b[0;32m      6\u001b[0m     \u001b[0md2\u001b[0m \u001b[1;33m=\u001b[0m \u001b[0mnp\u001b[0m\u001b[1;33m.\u001b[0m\u001b[0mmultiply\u001b[0m\u001b[1;33m(\u001b[0m\u001b[0mnp\u001b[0m\u001b[1;33m.\u001b[0m\u001b[0mdot\u001b[0m\u001b[1;33m(\u001b[0m\u001b[0md3\u001b[0m\u001b[1;33m,\u001b[0m \u001b[0mth2\u001b[0m\u001b[1;33m.\u001b[0m\u001b[0mT\u001b[0m\u001b[1;33m)\u001b[0m\u001b[1;33m,\u001b[0m\u001b[0mderiv_sig\u001b[0m\u001b[1;33m(\u001b[0m\u001b[0msigmoide\u001b[0m\u001b[1;33m(\u001b[0m\u001b[0ma\u001b[0m\u001b[1;33m[\u001b[0m\u001b[1;36m1\u001b[0m\u001b[1;33m]\u001b[0m\u001b[1;33m)\u001b[0m\u001b[1;33m)\u001b[0m\u001b[1;33m)\u001b[0m\u001b[1;33m\u001b[0m\u001b[0m\n\u001b[0;32m      7\u001b[0m     \u001b[0md2_aux\u001b[0m \u001b[1;33m=\u001b[0m \u001b[0mnp\u001b[0m\u001b[1;33m.\u001b[0m\u001b[0mcopy\u001b[0m\u001b[1;33m(\u001b[0m\u001b[0md2\u001b[0m\u001b[1;33m[\u001b[0m\u001b[1;33m:\u001b[0m\u001b[1;33m,\u001b[0m\u001b[1;36m1\u001b[0m\u001b[1;33m:\u001b[0m\u001b[1;33m]\u001b[0m\u001b[1;33m)\u001b[0m\u001b[1;33m\u001b[0m\u001b[0m\n",
      "\u001b[1;31mValueError\u001b[0m: operands could not be broadcast together with shapes (5,3) (5,10) "
     ]
    }
   ],
   "source": [
    "checkNNGradients(backprop, 1)"
   ]
  },
  {
   "cell_type": "code",
   "execution_count": null,
   "metadata": {},
   "outputs": [],
   "source": []
  }
 ],
 "metadata": {
  "kernelspec": {
   "display_name": "Python 3",
   "language": "python",
   "name": "python3"
  },
  "language_info": {
   "codemirror_mode": {
    "name": "ipython",
    "version": 3
   },
   "file_extension": ".py",
   "mimetype": "text/x-python",
   "name": "python",
   "nbconvert_exporter": "python",
   "pygments_lexer": "ipython3",
   "version": "3.6.5"
  }
 },
 "nbformat": 4,
 "nbformat_minor": 2
}
