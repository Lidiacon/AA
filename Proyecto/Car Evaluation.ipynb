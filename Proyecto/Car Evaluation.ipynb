{
 "cells": [
  {
   "cell_type": "code",
   "execution_count": 120,
   "metadata": {},
   "outputs": [],
   "source": [
    "%matplotlib notebook\n",
    "import csv\n",
    "import pandas as pd\n",
    "from scipy.io import loadmat\n",
    "import numpy as np\n",
    "import scipy.optimize as opt\n",
    "from pandas.io.parsers import read_csv\n",
    "from mpl_toolkits.mplot3d import Axes3D\n",
    "import matplotlib.pyplot as plt\n",
    "from matplotlib import cm\n",
    "from matplotlib.ticker import LinearLocator, FormatStrFormatter\n",
    "from sklearn.preprocessing import PolynomialFeatures\n",
    "from sklearn.svm import SVC"
   ]
  },
  {
   "cell_type": "code",
   "execution_count": 200,
   "metadata": {},
   "outputs": [],
   "source": [
    "def load_data(filename):\n",
    "    data = pd.read_csv(filename, header=None, delimiter=',').values\n",
    "    attrnum = data.shape[1]-1\n",
    "    return data[:, :attrnum], data[:, attrnum]"
   ]
  },
  {
   "cell_type": "code",
   "execution_count": 201,
   "metadata": {},
   "outputs": [],
   "source": [
    "data, y = load_data('car.csv')"
   ]
  },
  {
   "cell_type": "code",
   "execution_count": 202,
   "metadata": {},
   "outputs": [],
   "source": [
    "y, label = pd.factorize(y)\n",
    "for i in range(data.shape[1]):\n",
    "    data[:,i], labels= pd.factorize(data[:,i])"
   ]
  },
  {
   "cell_type": "code",
   "execution_count": 234,
   "metadata": {},
   "outputs": [
    {
     "data": {
      "text/plain": [
       "(1728, 1)"
      ]
     },
     "execution_count": 234,
     "metadata": {},
     "output_type": "execute_result"
    }
   ],
   "source": [
    "data = data.astype('float64')\n",
    "y = y.astype('float64')\n",
    "y = y.reshape(1728,1)\n",
    "y.shape"
   ]
  },
  {
   "cell_type": "code",
   "execution_count": 235,
   "metadata": {},
   "outputs": [],
   "source": [
    "unos = np.full((1728,1),1)\n",
    "th =np.zeros((7,1))\n",
    "x = np.append(unos.astype('float64'), data, axis=1)"
   ]
  },
  {
   "cell_type": "markdown",
   "metadata": {},
   "source": [
    "Utilizando el metodo de oneVsAll (practica 3, primera parte)"
   ]
  },
  {
   "cell_type": "code",
   "execution_count": 236,
   "metadata": {},
   "outputs": [],
   "source": [
    "def sigmoide(z):\n",
    "    s = np.dot(z,-1)\n",
    "    e = np.exp(s)\n",
    "    d = 1 + e\n",
    "    return 1/d"
   ]
  },
  {
   "cell_type": "code",
   "execution_count": 237,
   "metadata": {},
   "outputs": [],
   "source": [
    "def coste(th, x, y, lamda=1):\n",
    "    g = sigmoide(np.dot(x,th))\n",
    "    log1 = np.log(g)\n",
    "    log2 = np.log(1-g)\n",
    "    tr1 = np.dot(np.transpose(log1),y)\n",
    "    tr2 = np.dot(np.transpose(log2),(1-y))\n",
    "    c = -(tr1+tr2)/len(y)\n",
    "    s = np.sum(th**2)/(2*len(y))\n",
    "    return c + lamda*s"
   ]
  },
  {
   "cell_type": "code",
   "execution_count": 238,
   "metadata": {},
   "outputs": [],
   "source": [
    "def gradiente(th,x,y,lamda=1):\n",
    "    return np.dot(np.transpose(x),sigmoide(np.dot(x,th))-y)/len(y) + (lamda/len(y))*th\n",
    "f =gradiente(th,x,y)"
   ]
  },
  {
   "cell_type": "code",
   "execution_count": 239,
   "metadata": {},
   "outputs": [
    {
     "data": {
      "text/plain": [
       "(7,)"
      ]
     },
     "execution_count": 239,
     "metadata": {},
     "output_type": "execute_result"
    }
   ],
   "source": [
    "def lrgradientReg(theta,X,y, reg):\n",
    "    m = y.size\n",
    "    h = sigmoide(X.dot(theta.reshape(-1,1)))\n",
    "      \n",
    "    grad = (1/m)*X.T.dot(h-y) + (reg/m)*np.r_[[[0]],theta[1:].reshape(-1,1)]\n",
    "        \n",
    "    return(grad.flatten())\n",
    "lrgradientReg(th,x,y,0.1).shape"
   ]
  },
  {
   "cell_type": "code",
   "execution_count": 240,
   "metadata": {},
   "outputs": [
    {
     "data": {
      "text/plain": [
       "(7, 1)"
      ]
     },
     "execution_count": 240,
     "metadata": {},
     "output_type": "execute_result"
    }
   ],
   "source": [
    "f.shape"
   ]
  },
  {
   "cell_type": "code",
   "execution_count": 275,
   "metadata": {},
   "outputs": [
    {
     "data": {
      "text/plain": [
       "array([[1., 0., 0., 0.],\n",
       "       [1., 0., 0., 0.],\n",
       "       [1., 0., 0., 0.],\n",
       "       ...,\n",
       "       [0., 0., 0., 1.],\n",
       "       [0., 0., 0., 1.],\n",
       "       [0., 0., 1., 0.]])"
      ]
     },
     "execution_count": 275,
     "metadata": {},
     "output_type": "execute_result"
    }
   ],
   "source": [
    "def oneVsAll(X, y, num_etiquetas, reg=0):\n",
    "    matriz = []\n",
    "    calificacion = np.zeros((4,1728))\n",
    "    th = np.zeros((7,1))\n",
    "    for i in range(num_etiquetas):\n",
    "        c = np.isin(y,i)\n",
    "        result = opt.fmin_tnc(func=coste, x0=th, fprime=lrgradientReg, args=(X, c*1,reg))\n",
    "        th_opt = result[0]\n",
    "        matriz.append(th_opt)\n",
    "    j = np.dot(matriz,np.transpose(X))\n",
    "    for u in range(len(X)):\n",
    "        calificacion[np.argmax(j[:,u])][u] = 1\n",
    "    return np.transpose(calificacion)\n",
    "f =oneVsAll(x,y, 4)\n",
    "f"
   ]
  },
  {
   "cell_type": "code",
   "execution_count": 276,
   "metadata": {},
   "outputs": [],
   "source": [
    "def testeo(y, f):\n",
    "    acertados = 0\n",
    "    for i in range(len(y)):\n",
    "        if np.argmax(f[i]) == y[i]:\n",
    "            acertados +=1\n",
    "    return acertados, acertados/len(y)*100"
   ]
  },
  {
   "cell_type": "code",
   "execution_count": 274,
   "metadata": {},
   "outputs": [
    {
     "data": {
      "text/plain": [
       "(1407, 81.42361111111111)"
      ]
     },
     "execution_count": 274,
     "metadata": {},
     "output_type": "execute_result"
    }
   ],
   "source": [
    "testeo(y, f)"
   ]
  },
  {
   "cell_type": "markdown",
   "metadata": {},
   "source": [
    "Usando el metodo de propagación con RN"
   ]
  },
  {
   "cell_type": "code",
   "execution_count": 281,
   "metadata": {},
   "outputs": [],
   "source": [
    "def pesosAleatorios(L_in, L_out):\n",
    "    \n",
    "    e_ini = 0.12\n",
    "    pesos = np.random.uniform(-e_ini,e_ini,size=(L_out, L_in+1))\n",
    "    return pesos"
   ]
  },
  {
   "cell_type": "code",
   "execution_count": 537,
   "metadata": {},
   "outputs": [],
   "source": [
    "theta1 = pesosAleatorios(6,5)\n",
    "theta2 = pesosAleatorios(5,4)"
   ]
  },
  {
   "cell_type": "code",
   "execution_count": 538,
   "metadata": {},
   "outputs": [],
   "source": [
    "data, y = load_data('car.csv')\n",
    "y, label = pd.factorize(y)\n",
    "for i in range(data.shape[1]):\n",
    "    data[:,i], labels= pd.factorize(data[:,i])\n",
    "data = data.astype('float64')\n",
    "y = y.astype('float64')\n",
    "y = y.reshape(1728,1)\n",
    "\n",
    "\n",
    "f = propagacion(x,theta1)\n",
    "f2 = propagacion(f,theta2)"
   ]
  },
  {
   "cell_type": "code",
   "execution_count": 539,
   "metadata": {},
   "outputs": [],
   "source": [
    "def propagacion (x,th):\n",
    "    a = []\n",
    "    unos = np.full((1728,1),1)\n",
    "    for i in range(len(x)):\n",
    "        z = np.dot(x[i],np.transpose(th))\n",
    "        a.append(sigmoide(z))\n",
    "\n",
    "    return np.append(unos,a, axis = 1)"
   ]
  },
  {
   "cell_type": "code",
   "execution_count": 540,
   "metadata": {},
   "outputs": [],
   "source": [
    "f = np.copy(f2[:,1:])"
   ]
  },
  {
   "cell_type": "code",
   "execution_count": 541,
   "metadata": {},
   "outputs": [
    {
     "data": {
      "text/plain": [
       "(66, 3.8194444444444446)"
      ]
     },
     "execution_count": 541,
     "metadata": {},
     "output_type": "execute_result"
    }
   ],
   "source": [
    "testeo(y,f)"
   ]
  },
  {
   "cell_type": "code",
   "execution_count": null,
   "metadata": {},
   "outputs": [],
   "source": [
    "Utilizando RN con retropropagación."
   ]
  },
  {
   "cell_type": "code",
   "execution_count": 277,
   "metadata": {},
   "outputs": [],
   "source": [
    "def backprop (params_rn, num_entradas, num_ocultas, num_etiquetas, X, Y, reg ):\n",
    "\n",
    "    #Obtenemos theta1 y theta2\n",
    "    theta1 = np.reshape(params_rn [:num_ocultas * (num_entradas + 1)],\n",
    "    (num_ocultas, (num_entradas + 1) ) )\n",
    "    theta2 = np.reshape(params_rn [num_ocultas * (num_entradas + 1):],\n",
    "    ( num_etiquetas, (num_ocultas + 1) ) )\n",
    "    \n",
    "    #Añadimos una columna de unos a las X\n",
    "    unos = np.ones([X.shape[0],1])\n",
    "    _X = np.concatenate((unos,X),axis=1)    \n",
    "    \n",
    "    #Hallamos la hipótesis para las theta dadas, esto es necesario para el calculo del coste\n",
    "    h = hipotesis(_X,theta1,theta2).T\n",
    "\n",
    "    #Calculamos el coste con regularización\n",
    "    coste = coste_Reg(h, Y, theta1, theta2, num_etiquetas, reg)\n",
    "    grad = retro_propagacion(_X, Y, theta1, theta2, reg, num_etiquetas)\n",
    "\n",
    "    return coste, grad"
   ]
  },
  {
   "cell_type": "code",
   "execution_count": 278,
   "metadata": {},
   "outputs": [],
   "source": [
    "def coste_NR(h,Y,num_etiquetas):\n",
    "    \n",
    "    coste=0\n",
    "    m = Y.shape[0]\n",
    "    \n",
    "    for i in range(num_etiquetas):\n",
    "       \n",
    "        _Y = (Y==i+1)*1\n",
    "        coste += sum(-_Y*(np.log(h[i])) - (1-_Y)*(np.log(1-h[i])))\n",
    "        \n",
    "    return coste/m"
   ]
  },
  {
   "cell_type": "code",
   "execution_count": 279,
   "metadata": {},
   "outputs": [],
   "source": [
    "def coste_Reg(h, Y, theta1, theta2, num_etiquetas, reg):\n",
    "    \n",
    "    m = Y.shape[0]\n",
    "    theta1[0] = 0.0\n",
    "    theta2[0] = 0.0\n",
    "    \n",
    "    coste = coste_NR(h,Y,num_etiquetas)\n",
    "    coste += (sum(sum(theta1**2)) + sum(sum(theta2**2))) * (reg/m*2)\n",
    "    \n",
    "        \n",
    "    return coste"
   ]
  },
  {
   "cell_type": "code",
   "execution_count": 280,
   "metadata": {},
   "outputs": [],
   "source": [
    "def derivada_sig(Z):\n",
    "    \n",
    "    return sigmoide(Z)*(1-sigmoide(Z))\n",
    "        \n",
    "        \n",
    "def hipotesis(X,theta1,theta2):\n",
    "    \n",
    "    #Capa primera - Capa oculta\n",
    "    a_1 = sigmoide(X.dot(theta1.T))\n",
    "    unos = np.ones([a_1.shape[0],1])\n",
    "    \n",
    "    #Capa oculta - Capa salida\n",
    "    a_1 = np.concatenate((unos,a_1),axis=1)\n",
    "    a_2 = sigmoide(a_1.dot(theta2.T))\n",
    "    \n",
    "    return a_2"
   ]
  },
  {
   "cell_type": "code",
   "execution_count": 282,
   "metadata": {},
   "outputs": [],
   "source": [
    "def retro_propagacion(X, Y, theta1, theta2, reg, num_etiquetas):\n",
    "        \n",
    "    y = np.zeros((Y.shape[0],num_etiquetas))\n",
    "    m = Y.shape[0]\n",
    "    \n",
    "    for i in range (num_etiquetas):\n",
    "\n",
    "        y[i, Y[i]-1] = 1 \n",
    "        \n",
    "     #Capa primera - Capa oculta\n",
    "    a_1 = sigmoide(X.dot(theta1.T))\n",
    "    unos = np.ones([a_1.shape[0],1])\n",
    "    \n",
    "    #Capa oculta - Capa salida\n",
    "    a_2 = np.concatenate((unos,a_1),axis=1)\n",
    "    a_3 = sigmoide(a_2.dot(theta2.T))\n",
    "    \n",
    "    \n",
    "    sigma3 = a_3 - y\n",
    "    sigma2 = sigma3.dot(theta2)[:,1:]\n",
    "    sigma2 = sigma2 * derivada_sig(X.dot(theta1.T))\n",
    "    delta1 = sigma2.T.dot(X)\n",
    "    delta2 = sigma3.T.dot(a_2)\n",
    "\n",
    "    grad1 = delta1/m\n",
    "    grad2 = delta2/m\n",
    "    \n",
    "    theta1[:,1]=0\n",
    "    theta2[:,1]=0\n",
    "    grad1 = grad1+(reg/m)*theta1\n",
    "    grad2 = grad2+(reg/m)*theta2\n",
    "    \n",
    "    #Devolvemos el gradiente como una sola linea    \n",
    "    return np.concatenate((np.ravel(grad1),np.ravel(grad2)))"
   ]
  },
  {
   "cell_type": "code",
   "execution_count": 579,
   "metadata": {},
   "outputs": [],
   "source": [
    "def aprendizajeRN(X, Y, params, num_entradas, num_ocultas, num_etiquetas, lamb):\n",
    "    \n",
    "    \n",
    "    m = Y.shape[0]\n",
    "    \n",
    "    #Función que entrena la red neuronal\n",
    "    fmin = opt.minimize(fun=backprop, x0=params, \n",
    "                        args=(num_entradas, num_ocultas, num_etiquetas, X, Y, lamb),\n",
    "                        method='TNC', jac=True, options={'maxiter':32})\n",
    "    \n",
    "    #Obtenemos las theta del entrenamiento\n",
    "    theta1 = np.reshape(fmin.x [:num_ocultas * (num_entradas + 1)],\n",
    "    (num_ocultas, (num_entradas + 1) ) )\n",
    "    theta2 = np.reshape(fmin.x [num_ocultas * (num_entradas + 1):],\n",
    "    ( num_etiquetas, (num_ocultas + 1) ) )\n",
    "    \n",
    "    unos = np.ones([X.shape[0],1])\n",
    "    _X = np.concatenate((unos,X),axis=1)\n",
    "    \n",
    "    #Comprobamos la fidelidad del entrenamiento con los casos de prueba\n",
    "    res = hipotesis(_X,theta1,theta2)\n",
    "    \n",
    "    result = np.argmax(res,axis=1) \n",
    "    \n",
    "    result = (result == (Y))*1\n",
    "    \n",
    "    porcentaje = (sum(result)*100)/m\n",
    "\n",
    "    print(\"Término de regularización: \", lamb)\n",
    "    print(\"Númeo de iteraciones: \", 33)\n",
    "    print(\"Porcentaje de acierto: \", porcentaje)"
   ]
  },
  {
   "cell_type": "markdown",
   "metadata": {},
   "source": [
    "A partir de 33 iteraciones el valor alcanza su máximo por otro lado hemos comprobado que el valor de regularización afecta de manera anecdótica."
   ]
  },
  {
   "cell_type": "code",
   "execution_count": 584,
   "metadata": {},
   "outputs": [],
   "source": [
    "theta1 = pesosAleatorios(6,3)\n",
    "theta2 = pesosAleatorios(3,4)"
   ]
  },
  {
   "cell_type": "code",
   "execution_count": 570,
   "metadata": {},
   "outputs": [],
   "source": [
    "th1_opt = theta1\n",
    "th2_opt = theta2"
   ]
  },
  {
   "cell_type": "code",
   "execution_count": 585,
   "metadata": {},
   "outputs": [
    {
     "name": "stdout",
     "output_type": "stream",
     "text": [
      "Término de regularización:  100\n",
      "Númeo de iteraciones:  33\n",
      "Porcentaje de acierto:  22.22222222222222\n"
     ]
    }
   ],
   "source": [
    "data, y = load_data('car.csv')\n",
    "y, label = pd.factorize(y)\n",
    "for i in range(data.shape[1]):\n",
    "    data[:,i], labels= pd.factorize(data[:,i])\n",
    "data = data.astype('float64')\n",
    "y = y.astype('float64')\n",
    "y = y.reshape(1728,1)\n",
    "y = np.array(y.T)[0]\n",
    "\n",
    "\n",
    "\n",
    "    # Theta1 e s de dimensión 5 x 7\n",
    "    # Theta2 e s de dimensión 4 x 6\n",
    "    \n",
    "    \n",
    "theta_vec = np.concatenate((np.ravel(theta1),np.ravel(theta2)))\n",
    "num_entradas = theta1.shape[1]-1\n",
    "num_ocultas = theta1.shape[0]\n",
    "aprendizajeRN(data.astype('int'),y.astype('int'),theta_vec,num_entradas, num_ocultas, 4, 100)"
   ]
  },
  {
   "cell_type": "code",
   "execution_count": null,
   "metadata": {},
   "outputs": [],
   "source": []
  }
 ],
 "metadata": {
  "kernelspec": {
   "display_name": "Python 3",
   "language": "python",
   "name": "python3"
  },
  "language_info": {
   "codemirror_mode": {
    "name": "ipython",
    "version": 3
   },
   "file_extension": ".py",
   "mimetype": "text/x-python",
   "name": "python",
   "nbconvert_exporter": "python",
   "pygments_lexer": "ipython3",
   "version": "3.7.0"
  }
 },
 "nbformat": 4,
 "nbformat_minor": 2
}
