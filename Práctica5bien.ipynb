{
 "cells": [
  {
   "cell_type": "markdown",
   "metadata": {},
   "source": [
    "Práctica 5: Regresión lineal regularizada: sesgo y varianza\n",
    "===\n",
    "Autores: Lidia Concepción Echeverría y Francisco Ponce Belmonte\n",
    "---"
   ]
  },
  {
   "cell_type": "code",
   "execution_count": 1,
   "metadata": {},
   "outputs": [],
   "source": [
    "from scipy.io import loadmat\n",
    "import numpy as np\n",
    "import scipy.optimize as opt\n",
    "import matplotlib.pyplot as plt"
   ]
  },
  {
   "cell_type": "markdown",
   "metadata": {},
   "source": [
    "Carga de datos."
   ]
  },
  {
   "cell_type": "code",
   "execution_count": 2,
   "metadata": {},
   "outputs": [],
   "source": [
    "data = loadmat('ex5data1.mat')\n",
    "X = data['X']\n",
    "Xu = np.concatenate((np.ones([X.shape[0],1]),X),axis=1)\n",
    "Y = data['y'] \n",
    "Y = np.array(Y.T)[0]\n",
    "\n",
    "Xval = data['Xval']\n",
    "Xvalu = np.concatenate((np.ones([Xval.shape[0],1]),Xval),axis=1)\n",
    "Yval = data['yval'] \n",
    "Yval = np.array(Yval.T)[0]  \n",
    "\n",
    "Xtest = data['Xtest']\n",
    "Ytest = data['ytest']\n",
    "Ytest = np.array(Ytest.T)[0]\n",
    "\n",
    "reg = 0\n",
    "theta = np.ones((2))"
   ]
  },
  {
   "cell_type": "markdown",
   "metadata": {},
   "source": [
    "Función de coste y gradiente regularizada."
   ]
  },
  {
   "cell_type": "code",
   "execution_count": 3,
   "metadata": {},
   "outputs": [],
   "source": [
    "def costegrad(th,X,Y,reg):\n",
    "    m = Y.shape[0]\n",
    "    th_aux = np.array(th)\n",
    "    th_aux[0] = 0\n",
    "    \n",
    "    coste = (np.sum((np.dot(X, th) - Y)**2) + (reg * np.sum(th_aux**2)))/(2*m)\n",
    "    gradiente = (np.dot((np.dot(X, th) - Y), X) + (reg * th_aux))/m\n",
    "    \n",
    "    return coste, gradiente"
   ]
  },
  {
   "cell_type": "markdown",
   "metadata": {},
   "source": [
    "Utilizamos minimize para encontrar la theta óptima para nuestro problema."
   ]
  },
  {
   "cell_type": "code",
   "execution_count": 4,
   "metadata": {
    "scrolled": true
   },
   "outputs": [
    {
     "data": {
      "text/plain": [
       "[<matplotlib.lines.Line2D at 0x199163dbfd0>]"
      ]
     },
     "execution_count": 4,
     "metadata": {},
     "output_type": "execute_result"
    },
    {
     "data": {
      "image/png": "[encoded data removed]",
      "text/plain": [
       "<Figure size 432x288 with 1 Axes>"
      ]
     },
     "metadata": {
      "needs_background": "light"
     },
     "output_type": "display_data"
    }
   ],
   "source": [
    "fmin = opt.minimize(fun=costegrad, x0=theta, args=(Xu,Y,0), method='TNC', jac=True, options={'maxiter':30})\n",
    "\n",
    "plt.scatter(X,Y,marker='+', c='k')\n",
    "plt.plot(X, (fmin.x[0] + fmin.x[1]*X))"
   ]
  },
  {
   "cell_type": "markdown",
   "metadata": {},
   "source": [
    "Curvas de aprendizaje\n",
    "---\n",
    "Para comprobar que nuestro modelo aprende correctamente, utilizamos la función minimize para un rango de valores 0-i en cada iteración.\n",
    "\n",
    "Vistos los resultados, necesitaríamos una hipótesis más expresiva."
   ]
  },
  {
   "cell_type": "code",
   "execution_count": 5,
   "metadata": {
    "scrolled": true
   },
   "outputs": [
    {
     "data": {
      "text/plain": [
       "[<matplotlib.lines.Line2D at 0x19977b0b048>]"
      ]
     },
     "execution_count": 5,
     "metadata": {},
     "output_type": "execute_result"
    },
    {
     "data": {
      "image/png": "[encoded data removed]",
      "text/plain": [
       "<Figure size 432x288 with 1 Axes>"
      ]
     },
     "metadata": {
      "needs_background": "light"
     },
     "output_type": "display_data"
    }
   ],
   "source": [
    "error = []\n",
    "val = []   \n",
    "for i in range(X.shape[0]):     \n",
    "    xi = Xu[0:i+1]\n",
    "    yi = Y[0:i+1]\n",
    "\n",
    "    thi = opt.minimize(fun=costegrad, x0=theta, args=(xi,yi,reg),\n",
    "                        method='TNC', jac=True, options={'maxiter':30}).x\n",
    "\n",
    "    error.append(costegrad(thi, xi, yi, reg)[0]) \n",
    "    val.append(costegrad(thi, Xvalu, Yval, reg)[0]) \n",
    "    \n",
    "plt.plot(np.arange(1, X.shape[0]+1, 1), error)\n",
    "plt.plot(np.arange(1, X.shape[0]+1, 1), val)"
   ]
  },
  {
   "cell_type": "markdown",
   "metadata": {},
   "source": [
    "Regresión polinomial\n",
    "---\n",
    "Función auxiliar para generar nuevos datos de entrenamiento."
   ]
  },
  {
   "cell_type": "code",
   "execution_count": 6,
   "metadata": {},
   "outputs": [],
   "source": [
    "def new_data(X,p):\n",
    "    Xaux = np.array(X)\n",
    "    for i in range(p-1):\n",
    "        X = np.concatenate((X,Xaux**(i+2)),axis=1)\n",
    "    return X"
   ]
  },
  {
   "cell_type": "markdown",
   "metadata": {},
   "source": [
    "Con esta función, podremos normalizar los datos de cada atributo del dataset dado."
   ]
  },
  {
   "cell_type": "code",
   "execution_count": 7,
   "metadata": {},
   "outputs": [],
   "source": [
    "def normalizar(X):\n",
    "    mu = np.mean(X,axis=0)\n",
    "    mu = mu.reshape(mu.shape[0],1)\n",
    "    sigma = np.std(X,axis=0)\n",
    "    sigma = sigma.reshape(sigma.shape[0],1)\n",
    "    X = (X - mu.T)/sigma.T\n",
    "    \n",
    "    return X,mu,sigma"
   ]
  },
  {
   "cell_type": "markdown",
   "metadata": {},
   "source": [
    "Nuevos datos generados a partir del conjunto X, listos para usar."
   ]
  },
  {
   "cell_type": "code",
   "execution_count": 8,
   "metadata": {},
   "outputs": [],
   "source": [
    "X_data = new_data(X,8)\n",
    "X_norm_data, mu, sigma = normalizar(X_data)\n",
    "X_norm_data = np.concatenate((np.ones([X_norm_data.shape[0],1]), X_norm_data), axis=1)"
   ]
  },
  {
   "cell_type": "markdown",
   "metadata": {},
   "source": [
    "Sobre estos nuevos datos, aplicamos de nuevo la función minimize y la regresión lineal sobre un conjunto de datos aumentado y normalizado entre los valores de X en intervalos de 0,05.\n",
    "\n",
    "De esta forma, disponemos de una recta de predicción."
   ]
  },
  {
   "cell_type": "code",
   "execution_count": 9,
   "metadata": {},
   "outputs": [
    {
     "data": {
      "text/plain": [
       "[<matplotlib.lines.Line2D at 0x199184b2e48>]"
      ]
     },
     "execution_count": 9,
     "metadata": {},
     "output_type": "execute_result"
    },
    {
     "data": {
      "image/png": "[encoded data removed]",
      "text/plain": [
       "<Figure size 432x288 with 1 Axes>"
      ]
     },
     "metadata": {
      "needs_background": "light"
     },
     "output_type": "display_data"
    }
   ],
   "source": [
    "_X = X_norm_data\n",
    "theta = np.zeros((_X.shape[1]))\n",
    "\n",
    "reg = 0 \n",
    "fmin = opt.minimize(fun=costegrad, x0=theta, args=(_X,Y,reg),\n",
    "                        method='TNC', jac=True, options={'maxiter':2000}).x\n",
    "\n",
    "Xaux = np.arange(min(X),max(X),0.05)\n",
    "X_new2 = Xaux.reshape(Xaux.shape[0],1)\n",
    "X_new2 = new_data(X_new2,8)\n",
    "X_new2 = (X_new2 - mu.T)/sigma.T\n",
    "X_new2 = np.concatenate((np.ones([X_new2.shape[0],1]),X_new2),axis=1)\n",
    "    \n",
    "plt.scatter(X,Y,marker='X', c='k')\n",
    "plt.plot(Xaux, np.dot(X_new2,fmin))"
   ]
  },
  {
   "cell_type": "markdown",
   "metadata": {},
   "source": [
    "Curvas de aprendizaje (reg. polinomial)\n",
    "--\n",
    "Al igual que antes, generaremos laa curva de aprendizaje sobre los valores aumentados y normalizados de X, haciendo lo mismo para los valores de Xval. \n",
    "\n",
    "Como se puede observar en la gráfica, pasado cierto punto, el error de los valores de validación aumenta, ya que está sobre-entrenando."
   ]
  },
  {
   "cell_type": "code",
   "execution_count": 10,
   "metadata": {},
   "outputs": [
    {
     "data": {
      "text/plain": [
       "[<matplotlib.lines.Line2D at 0x19918597dd8>]"
      ]
     },
     "execution_count": 10,
     "metadata": {},
     "output_type": "execute_result"
    },
    {
     "data": {
      "image/png": "[encoded data removed]",
      "text/plain": [
       "<Figure size 432x288 with 1 Axes>"
      ]
     },
     "metadata": {
      "needs_background": "light"
     },
     "output_type": "display_data"
    }
   ],
   "source": [
    "Xvalu = (new_data(Xval,8)-mu.T)/sigma.T\n",
    "Xvalu = np.concatenate((np.ones([Xvalu.shape[0],1]),Xvalu),axis=1)\n",
    "    \n",
    "error = []\n",
    "val = []\n",
    "for i in range(X.shape[0]):\n",
    "    xi = _X[0:i+1]\n",
    "    yi = Y[0:i+1]\n",
    "    thi = opt.minimize(fun=costegrad, x0=theta, args=(xi,yi,reg),\n",
    "                        method='TNC', jac=True, options={'maxiter':2000}).x\n",
    "\n",
    "    error.append(costegrad(thi, xi, yi, reg)[0])\n",
    "    val.append(costegrad(thi, Xvalu, Yval, reg)[0])\n",
    "\n",
    "plt.figure()\n",
    "plt.plot(np.arange(1, X.shape[0]+1, 1), error)\n",
    "plt.plot(np.arange(1, X.shape[0]+1, 1), val)"
   ]
  },
  {
   "cell_type": "markdown",
   "metadata": {},
   "source": [
    "Selección parámetro Lambda\n",
    "---\n",
    "Para elegir el valor óptimo de este parámetro, hay que comprobar con cada valor el resultado de aplicarla sobre los conjuntos de entrenamiento y validación como llevamos haciendo en los anteriores ejercicios."
   ]
  },
  {
   "cell_type": "code",
   "execution_count": 11,
   "metadata": {
    "scrolled": true
   },
   "outputs": [
    {
     "data": {
      "text/plain": [
       "[<matplotlib.lines.Line2D at 0x19918572c88>]"
      ]
     },
     "execution_count": 11,
     "metadata": {},
     "output_type": "execute_result"
    },
    {
     "data": {
      "image/png": "[encoded data removed]",
      "text/plain": [
       "<Figure size 432x288 with 1 Axes>"
      ]
     },
     "metadata": {
      "needs_background": "light"
     },
     "output_type": "display_data"
    }
   ],
   "source": [
    "valores = [0, 0.001, 0.003, 0.01, 0.03, 0.1, 0.3, 1, 3, 10]\n",
    "error = []\n",
    "val = []\n",
    "for i in range(len(valores)):\n",
    "    thi = opt.minimize(fun=costegrad, x0=theta, args=(X_norm_data,Y,valores[i]),\n",
    "                        method='TNC', jac=True, options={'maxiter':2000}).x\n",
    "        \n",
    "    error.append(costegrad(thi, X_norm_data, Y, 0)[0])\n",
    "    val.append(costegrad(thi, Xvalu, Yval, 0)[0])\n",
    "\n",
    "plt.plot(valores, error)\n",
    "plt.plot(valores, val)"
   ]
  },
  {
   "cell_type": "markdown",
   "metadata": {},
   "source": [
    "Como se puede observar en la gráfica, el mejor valor de lambda parece ser 3. Para asegurarnos de que el error que produce es realmente bajo, lo comprobamos, aplicando la hipótesis sobre el conjunto de testeo (Xtest)."
   ]
  },
  {
   "cell_type": "code",
   "execution_count": 12,
   "metadata": {},
   "outputs": [
    {
     "data": {
      "text/plain": [
       "3.5720488491943923"
      ]
     },
     "execution_count": 12,
     "metadata": {},
     "output_type": "execute_result"
    }
   ],
   "source": [
    "_Xtest = (new_data(Xtest,8) - mu.T)/sigma.T\n",
    "_Xtest = np.concatenate((np.ones([Xtest.shape[0],1]),_Xtest),axis=1)\n",
    "    \n",
    "theta_fin = opt.minimize(fun=costegrad, x0=theta, \n",
    "                        args=(_X,Y,3),\n",
    "                        method='TNC', jac=True, options={'maxiter':2000}).x\n",
    "    \n",
    "costegrad(theta_fin, _Xtest, Ytest, 0)[0]"
   ]
  }
 ],
 "metadata": {
  "kernelspec": {
   "display_name": "Python 3",
   "language": "python",
   "name": "python3"
  },
  "language_info": {
   "codemirror_mode": {
    "name": "ipython",
    "version": 3
   },
   "file_extension": ".py",
   "mimetype": "text/x-python",
   "name": "python",
   "nbconvert_exporter": "python",
   "pygments_lexer": "ipython3",
   "version": "3.6.7"
  }
 },
 "nbformat": 4,
 "nbformat_minor": 2
}
