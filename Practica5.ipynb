{
 "cells": [
  {
   "cell_type": "code",
   "execution_count": 2,
   "metadata": {},
   "outputs": [],
   "source": [
    "%matplotlib notebook\n",
    "import csv\n",
    "from scipy.io import loadmat\n",
    "import numpy as np\n",
    "import scipy.optimize as opt\n",
    "from pandas.io.parsers import read_csv\n",
    "from mpl_toolkits.mplot3d import Axes3D\n",
    "import matplotlib.pyplot as plt\n",
    "from matplotlib import cm\n",
    "from matplotlib.ticker import LinearLocator, FormatStrFormatter\n",
    "from sklearn.preprocessing import PolynomialFeatures"
   ]
  },
  {
   "cell_type": "code",
   "execution_count": 66,
   "metadata": {},
   "outputs": [],
   "source": [
    "data = loadmat('ex5data1.mat')\n",
    "y = data['y']\n",
    "x = data['X']\n",
    "yval = data['yval']\n",
    "xval = data['Xval']\n",
    "ytest = data['ytest']\n",
    "xtest = data['Xtest']\n",
    "th = np.ones((2,1))\n",
    "x = np.insert(x,0,np.ones(len(x)),axis=1)"
   ]
  },
  {
   "cell_type": "code",
   "execution_count": 68,
   "metadata": {},
   "outputs": [
    {
     "data": {
      "text/plain": [
       "array([[  1.        , -15.93675813],\n",
       "       [  1.        , -29.15297922],\n",
       "       [  1.        ,  36.18954863],\n",
       "       [  1.        ,  37.49218733],\n",
       "       [  1.        , -48.05882945],\n",
       "       [  1.        ,  -8.94145794],\n",
       "       [  1.        ,  15.30779289],\n",
       "       [  1.        , -34.70626581],\n",
       "       [  1.        ,   1.38915437],\n",
       "       [  1.        , -44.38375985],\n",
       "       [  1.        ,   7.01350208],\n",
       "       [  1.        ,  22.76274892]])"
      ]
     },
     "execution_count": 68,
     "metadata": {},
     "output_type": "execute_result"
    }
   ],
   "source": [
    "np.dot(x,th)[:,0]\n",
    "x"
   ]
  },
  {
   "cell_type": "code",
   "execution_count": 70,
   "metadata": {},
   "outputs": [
    {
     "data": {
      "text/plain": [
       "303.9931922202643"
      ]
     },
     "execution_count": 70,
     "metadata": {},
     "output_type": "execute_result"
    }
   ],
   "source": [
    "def coste(th,x,y,reg = 1):\n",
    "    m = x.shape[0]\n",
    "    return (1/(2*m)) * np.sum(np.square(np.dot(x,th) - y)) + (reg/(2*m)) * np.sum(np.square(th[1:])) \n",
    "\n",
    "coste(th,x,y)"
   ]
  },
  {
   "cell_type": "code",
   "execution_count": 412,
   "metadata": {},
   "outputs": [],
   "source": [
    "def gradiente(th,x,y,reg=0):\n",
    "    t0 = np.sum((np.ravel(np.dot(x, th)-y)) * x[:,0])/len(x)\n",
    "    t1 = np.sum((np.dot(x, th)-y) * x[:,1:])/len(x) + reg * np.ravel(th[1:])/len(x)\n",
    "    return np.append(t0,t1)"
   ]
  },
  {
   "cell_type": "code",
   "execution_count": 413,
   "metadata": {},
   "outputs": [
    {
     "data": {
      "text/plain": [
       "array([-15.30301567, 598.16741084])"
      ]
     },
     "execution_count": 413,
     "metadata": {},
     "output_type": "execute_result"
    }
   ],
   "source": [
    "gradiente(th,x,y)"
   ]
  },
  {
   "cell_type": "code",
   "execution_count": 408,
   "metadata": {},
   "outputs": [
    {
     "data": {
      "text/plain": [
       "array([[-29.3262359 ],\n",
       "       [  2.83043945],\n",
       "       [  1.65423217],\n",
       "       [-49.86779453],\n",
       "       [-10.06253041],\n",
       "       [  1.59752458],\n",
       "       [-36.3204502 ],\n",
       "       [ -1.3510173 ],\n",
       "       [-47.11545116],\n",
       "       [  0.38584323],\n",
       "       [  1.01032062]])"
      ]
     },
     "execution_count": 408,
     "metadata": {},
     "output_type": "execute_result"
    }
   ],
   "source": [
    "(np.dot(x, th)-y)[1:]"
   ]
  },
  {
   "cell_type": "code",
   "execution_count": 219,
   "metadata": {},
   "outputs": [
    {
     "data": {
      "text/plain": [
       "22.671457667428143"
      ]
     },
     "execution_count": 219,
     "metadata": {},
     "output_type": "execute_result"
    }
   ],
   "source": [
    "np.sum(np.multiply((np.ravelnp.dot(x, th)-y)), x[0,1]))/len(x)"
   ]
  },
  {
   "cell_type": "code",
   "execution_count": 389,
   "metadata": {},
   "outputs": [
    {
     "data": {
      "text/plain": [
       "array([[-17.07106864, -17.07106864, -17.07106864, -17.07106864,\n",
       "        -17.07106864, -17.07106864, -17.07106864, -17.07106864,\n",
       "        -17.07106864, -17.07106864, -17.07106864, -17.07106864],\n",
       "       [-29.3262359 , -29.3262359 , -29.3262359 , -29.3262359 ,\n",
       "        -29.3262359 , -29.3262359 , -29.3262359 , -29.3262359 ,\n",
       "        -29.3262359 , -29.3262359 , -29.3262359 , -29.3262359 ],\n",
       "       [  2.83043945,   2.83043945,   2.83043945,   2.83043945,\n",
       "          2.83043945,   2.83043945,   2.83043945,   2.83043945,\n",
       "          2.83043945,   2.83043945,   2.83043945,   2.83043945],\n",
       "       [  1.65423217,   1.65423217,   1.65423217,   1.65423217,\n",
       "          1.65423217,   1.65423217,   1.65423217,   1.65423217,\n",
       "          1.65423217,   1.65423217,   1.65423217,   1.65423217],\n",
       "       [-49.86779453, -49.86779453, -49.86779453, -49.86779453,\n",
       "        -49.86779453, -49.86779453, -49.86779453, -49.86779453,\n",
       "        -49.86779453, -49.86779453, -49.86779453, -49.86779453],\n",
       "       [-10.06253041, -10.06253041, -10.06253041, -10.06253041,\n",
       "        -10.06253041, -10.06253041, -10.06253041, -10.06253041,\n",
       "        -10.06253041, -10.06253041, -10.06253041, -10.06253041],\n",
       "       [  1.59752458,   1.59752458,   1.59752458,   1.59752458,\n",
       "          1.59752458,   1.59752458,   1.59752458,   1.59752458,\n",
       "          1.59752458,   1.59752458,   1.59752458,   1.59752458],\n",
       "       [-36.3204502 , -36.3204502 , -36.3204502 , -36.3204502 ,\n",
       "        -36.3204502 , -36.3204502 , -36.3204502 , -36.3204502 ,\n",
       "        -36.3204502 , -36.3204502 , -36.3204502 , -36.3204502 ],\n",
       "       [ -1.3510173 ,  -1.3510173 ,  -1.3510173 ,  -1.3510173 ,\n",
       "         -1.3510173 ,  -1.3510173 ,  -1.3510173 ,  -1.3510173 ,\n",
       "         -1.3510173 ,  -1.3510173 ,  -1.3510173 ,  -1.3510173 ],\n",
       "       [-47.11545116, -47.11545116, -47.11545116, -47.11545116,\n",
       "        -47.11545116, -47.11545116, -47.11545116, -47.11545116,\n",
       "        -47.11545116, -47.11545116, -47.11545116, -47.11545116],\n",
       "       [  0.38584323,   0.38584323,   0.38584323,   0.38584323,\n",
       "          0.38584323,   0.38584323,   0.38584323,   0.38584323,\n",
       "          0.38584323,   0.38584323,   0.38584323,   0.38584323],\n",
       "       [  1.01032062,   1.01032062,   1.01032062,   1.01032062,\n",
       "          1.01032062,   1.01032062,   1.01032062,   1.01032062,\n",
       "          1.01032062,   1.01032062,   1.01032062,   1.01032062]])"
      ]
     },
     "execution_count": 389,
     "metadata": {},
     "output_type": "execute_result"
    }
   ],
   "source": [
    "np.multiply((np.dot(x, th)-y),x[:,0])"
   ]
  },
  {
   "cell_type": "code",
   "execution_count": 399,
   "metadata": {},
   "outputs": [
    {
     "data": {
      "text/plain": [
       "(12, 1)"
      ]
     },
     "execution_count": 399,
     "metadata": {},
     "output_type": "execute_result"
    }
   ],
   "source": [
    "(np.dot(x, th)-y).shape"
   ]
  },
  {
   "cell_type": "code",
   "execution_count": 391,
   "metadata": {},
   "outputs": [
    {
     "data": {
      "text/plain": [
       "(12,)"
      ]
     },
     "execution_count": 391,
     "metadata": {},
     "output_type": "execute_result"
    }
   ],
   "source": [
    "x[:,0].shape"
   ]
  },
  {
   "cell_type": "code",
   "execution_count": 401,
   "metadata": {},
   "outputs": [
    {
     "data": {
      "text/plain": [
       "(12, 1)"
      ]
     },
     "execution_count": 401,
     "metadata": {},
     "output_type": "execute_result"
    }
   ],
   "source": [
    "x[:,1:].shape"
   ]
  },
  {
   "cell_type": "code",
   "execution_count": 173,
   "metadata": {},
   "outputs": [
    {
     "data": {
      "text/plain": [
       "array([-15.93675813, -29.15297922,  36.18954863,  37.49218733,\n",
       "       -48.05882945,  -8.94145794,  15.30779289, -34.70626581,\n",
       "         1.38915437, -44.38375985,   7.01350208,  22.76274892])"
      ]
     },
     "execution_count": 173,
     "metadata": {},
     "output_type": "execute_result"
    }
   ],
   "source": [
    "x[:,1]"
   ]
  },
  {
   "cell_type": "code",
   "execution_count": null,
   "metadata": {},
   "outputs": [],
   "source": []
  }
 ],
 "metadata": {
  "kernelspec": {
   "display_name": "Python 3",
   "language": "python",
   "name": "python3"
  },
  "language_info": {
   "codemirror_mode": {
    "name": "ipython",
    "version": 3
   },
   "file_extension": ".py",
   "mimetype": "text/x-python",
   "name": "python",
   "nbconvert_exporter": "python",
   "pygments_lexer": "ipython3",
   "version": "3.6.5"
  }
 },
 "nbformat": 4,
 "nbformat_minor": 2
}
