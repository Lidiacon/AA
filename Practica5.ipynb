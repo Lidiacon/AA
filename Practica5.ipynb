{
 "cells": [
  {
   "cell_type": "code",
   "execution_count": 1,
   "metadata": {},
   "outputs": [],
   "source": [
    "%matplotlib notebook\n",
    "import csv\n",
    "from scipy.io import loadmat\n",
    "import numpy as np\n",
    "import scipy.optimize as opt\n",
    "from pandas.io.parsers import read_csv\n",
    "from mpl_toolkits.mplot3d import Axes3D\n",
    "import matplotlib.pyplot as plt\n",
    "from matplotlib import cm\n",
    "from matplotlib.ticker import LinearLocator, FormatStrFormatter\n",
    "from sklearn.preprocessing import PolynomialFeatures"
   ]
  },
  {
   "cell_type": "code",
   "execution_count": 2,
   "metadata": {},
   "outputs": [],
   "source": [
    "data = loadmat('../ex5data1.mat')\n",
    "y = data['y']\n",
    "x = data['X']\n",
    "yval = data['yval']\n",
    "xval = data['Xval']\n",
    "ytest = data['ytest']\n",
    "xtest = data['Xtest']\n",
    "th = np.ones(2)"
   ]
  },
  {
   "cell_type": "code",
   "execution_count": 3,
   "metadata": {},
   "outputs": [
    {
     "data": {
      "text/plain": [
       "12"
      ]
     },
     "execution_count": 3,
     "metadata": {},
     "output_type": "execute_result"
    }
   ],
   "source": [
    "np.dot(x,th[1:]).shape[0]"
   ]
  },
  {
   "cell_type": "code",
   "execution_count": 20,
   "metadata": {},
   "outputs": [
    {
     "name": "stdout",
     "output_type": "stream",
     "text": [
      "[-15.93675813 -29.15297922  36.18954863  37.49218733 -48.05882945\n",
      "  -8.94145794  15.30779289 -34.70626581   1.38915437 -44.38375985\n",
      "   7.01350208  22.76274892]\n",
      "[ 2.13431051  1.17325668 34.35910918 36.83795516  2.80896507  2.12107248\n",
      " 14.71026831  2.61418439  3.74017167  3.73169131  7.62765885 22.7524283 ]\n",
      "[-1.80710686e+01 -3.03262359e+01  1.83043945e+00  6.54232168e-01\n",
      " -5.08677945e+01 -1.10625304e+01  5.97524583e-01 -3.73204502e+01\n",
      " -2.35101730e+00 -4.81154512e+01 -6.14156770e-01  1.03206175e-02]\n"
     ]
    },
    {
     "data": {
      "text/plain": [
       "319.79620789446545"
      ]
     },
     "execution_count": 20,
     "metadata": {},
     "output_type": "execute_result"
    }
   ],
   "source": [
    "def coste(th,x,y,reg = 1):\n",
    "    m = x.shape[0]\n",
    "    print (np.dot(x,th[1:]))\n",
    "    print(y[:,0])\n",
    "    print(np.dot(x,th[1:]) - y[:,0])\n",
    "    return (1/(2*m)) * np.sum(np.square(np.dot(x,th[1:]) - y[:,0])) + (reg/(2*m)) * np.sum(np.square(th[1:])) \n",
    "\n",
    "coste(th,x,y)"
   ]
  },
  {
   "cell_type": "code",
   "execution_count": 36,
   "metadata": {},
   "outputs": [],
   "source": [
    "def gradiente(th,x,y,reg=1):\n",
    "    print(np.dot(x, th[1:])-y[:,0])\n",
    "    t0 = np.sum(np.dot(x, th[1:])-y[:,0] * x[0])/len(x)\n",
    "    t1 = np.sum(np.dot( (np.dot(x, th[1:])-y[:,0])[1:] ,x[1:]))/len(x) + reg * th[1:]/len(x)\n",
    "    print(t0.shape, t1.shape)\n",
    "    return np.insert(t1, 0, t0, axis=0)"
   ]
  },
  {
   "cell_type": "code",
   "execution_count": 37,
   "metadata": {},
   "outputs": [
    {
     "name": "stdout",
     "output_type": "stream",
     "text": [
      "[-15.93675813 -29.15297922  36.18954863  37.49218733 -48.05882945\n",
      "  -8.94145794  15.30779289 -34.70626581   1.38915437 -44.38375985\n",
      "   7.01350208  22.76274892]\n",
      "[ 2.13431051  1.17325668 34.35910918 36.83795516  2.80896507  2.12107248\n",
      " 14.71026831  2.61418439  3.74017167  3.73169131  7.62765885 22.7524283 ]\n",
      "[-1.80710686e+01 -3.03262359e+01  1.83043945e+00  6.54232168e-01\n",
      " -5.08677945e+01 -1.10625304e+01  5.97524583e-01 -3.73204502e+01\n",
      " -2.35101730e+00 -4.81154512e+01 -6.14156770e-01  1.03206175e-02]\n"
     ]
    },
    {
     "data": {
      "text/plain": [
       "319.79620789446545"
      ]
     },
     "execution_count": 37,
     "metadata": {},
     "output_type": "execute_result"
    }
   ],
   "source": [
    "coste(th,x,y)"
   ]
  },
  {
   "cell_type": "code",
   "execution_count": 38,
   "metadata": {},
   "outputs": [
    {
     "name": "stdout",
     "output_type": "stream",
     "text": [
      "[-1.80710686e+01 -3.03262359e+01  1.83043945e+00  6.54232168e-01\n",
      " -5.08677945e+01 -1.10625304e+01  5.97524583e-01 -3.73204502e+01\n",
      " -2.35101730e+00 -4.81154512e+01 -6.14156770e-01  1.03206175e-02]\n",
      "() (1,)\n"
     ]
    },
    {
     "data": {
      "text/plain": [
       "array([173.68658157, 579.33664968])"
      ]
     },
     "execution_count": 38,
     "metadata": {},
     "output_type": "execute_result"
    }
   ],
   "source": [
    "gradiente(th,x,y)"
   ]
  },
  {
   "cell_type": "code",
   "execution_count": null,
   "metadata": {},
   "outputs": [],
   "source": [
    "np.square(np.array([[1,2],[3,4]]))"
   ]
  },
  {
   "cell_type": "code",
   "execution_count": null,
   "metadata": {},
   "outputs": [],
   "source": []
  }
 ],
 "metadata": {
  "kernelspec": {
   "display_name": "Python 3",
   "language": "python",
   "name": "python3"
  },
  "language_info": {
   "codemirror_mode": {
    "name": "ipython",
    "version": 3
   },
   "file_extension": ".py",
   "mimetype": "text/x-python",
   "name": "python",
   "nbconvert_exporter": "python",
   "pygments_lexer": "ipython3",
   "version": "3.6.5"
  }
 },
 "nbformat": 4,
 "nbformat_minor": 2
}
