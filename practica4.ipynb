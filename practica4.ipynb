{
 "cells": [
  {
   "cell_type": "code",
   "execution_count": 135,
   "metadata": {},
   "outputs": [],
   "source": [
    "%matplotlib notebook\n",
    "import csv\n",
    "from scipy.io import loadmat\n",
    "import numpy as np\n",
    "import scipy.optimize as opt\n",
    "from pandas.io.parsers import read_csv\n",
    "from mpl_toolkits.mplot3d import Axes3D\n",
    "import matplotlib.pyplot as plt\n",
    "from matplotlib import cm\n",
    "from matplotlib.ticker import LinearLocator, FormatStrFormatter\n",
    "from sklearn.preprocessing import PolynomialFeatures"
   ]
  },
  {
   "cell_type": "code",
   "execution_count": 136,
   "metadata": {},
   "outputs": [],
   "source": [
    "data = loadmat('ex4data1.mat')\n",
    "y = data['y']\n",
    "x = data['X']\n",
    "unos = np.full((5000,1),1)\n",
    "weights = loadmat('ex4weights.mat')\n",
    "theta1, theta2 = weights['Theta1'], weights['Theta2']\n",
    "x = np.append(unos, x, axis=1)"
   ]
  },
  {
   "cell_type": "code",
   "execution_count": 137,
   "metadata": {},
   "outputs": [],
   "source": [
    "def sigmoide(z):\n",
    "    s = np.dot(z,-1)\n",
    "    e = np.exp(s)\n",
    "    d = 1 + e\n",
    "    return 1/d"
   ]
  },
  {
   "cell_type": "code",
   "execution_count": 138,
   "metadata": {},
   "outputs": [],
   "source": [
    "def propagacion (x,th):\n",
    "    unos = np.full((len(x),1),1)\n",
    "    z = np.dot(x,np.transpose(th))\n",
    "    return np.append(unos,sigmoide(z), axis = 1)"
   ]
  },
  {
   "cell_type": "code",
   "execution_count": 139,
   "metadata": {},
   "outputs": [],
   "source": [
    "f = propagacion(x,theta1)\n",
    "f2 = propagacion(f,theta2)\n",
    "f = np.copy(f2[:,1:])"
   ]
  },
  {
   "cell_type": "code",
   "execution_count": 140,
   "metadata": {},
   "outputs": [],
   "source": [
    "def testeo(y, f):\n",
    "    acertados = 0\n",
    "    for i in range(len(y)):\n",
    "        if np.argmax(f[i])+1 == y[i]:\n",
    "            acertados +=1\n",
    "    return acertados, acertados/len(y)*100"
   ]
  },
  {
   "cell_type": "code",
   "execution_count": 141,
   "metadata": {},
   "outputs": [
    {
     "data": {
      "text/plain": [
       "array([[0., 0., 0., ..., 0., 0., 1.],\n",
       "       [0., 0., 0., ..., 0., 0., 1.],\n",
       "       [0., 0., 0., ..., 0., 0., 1.],\n",
       "       ...,\n",
       "       [0., 0., 0., ..., 0., 1., 0.],\n",
       "       [0., 0., 0., ..., 0., 1., 0.],\n",
       "       [0., 0., 0., ..., 0., 1., 0.]])"
      ]
     },
     "execution_count": 141,
     "metadata": {},
     "output_type": "execute_result"
    }
   ],
   "source": [
    "def norm(y,num_etiqueta):\n",
    "    y_norm = np.zeros((len(y),num_etiqueta))\n",
    "    for i in range(len(y)):\n",
    "        y_norm[i][y[i]-1]= 1\n",
    "    return y_norm\n",
    "norm(y,10)"
   ]
  },
  {
   "cell_type": "code",
   "execution_count": 142,
   "metadata": {},
   "outputs": [
    {
     "data": {
      "text/plain": [
       "89.36616413827161"
      ]
     },
     "execution_count": 142,
     "metadata": {},
     "output_type": "execute_result"
    }
   ],
   "source": [
    "def coste(theta1,theta2,x,y,num_etiqueta):\n",
    "    y = norm(y,num_etiqueta)\n",
    "    g = np.copy(propagacion(propagacion(x,theta1),theta2)[:,1:])\n",
    "    return np.sum(-(np.dot(np.transpose(np.log(g)),y) + np.dot(np.transpose(np.log(1-g)),(1-y))))/len(x)\n",
    "coste(theta1,theta2,x,y,10)"
   ]
  },
  {
   "cell_type": "code",
   "execution_count": 143,
   "metadata": {},
   "outputs": [],
   "source": [
    "def backprop (params_rn , num_entradas , num_ocultas , num_etiquetas , x, y , reg = 0.1 ):\n",
    "    theta1 = np . reshape (params_rn [ : num_ocultas, (num_entradas + 1) ] , (num_ocultas , (num_entradas + 1)))\n",
    "    theta2 = np . reshape (params_rn [ num_ocultas, (num_entradas + 1) :] , (num_etiquetas , (num_ocultas + 1)))\n",
    "    coste = coste (theta1,theta2,x,y,num_etiquetas)\n",
    "    return coste"
   ]
  },
  {
   "cell_type": "code",
   "execution_count": null,
   "metadata": {},
   "outputs": [],
   "source": [
    "backprop()"
   ]
  }
 ],
 "metadata": {
  "kernelspec": {
   "display_name": "Python 3",
   "language": "python",
   "name": "python3"
  },
  "language_info": {
   "codemirror_mode": {
    "name": "ipython",
    "version": 3
   },
   "file_extension": ".py",
   "mimetype": "text/x-python",
   "name": "python",
   "nbconvert_exporter": "python",
   "pygments_lexer": "ipython3",
   "version": "3.6.5"
  }
 },
 "nbformat": 4,
 "nbformat_minor": 2
}
