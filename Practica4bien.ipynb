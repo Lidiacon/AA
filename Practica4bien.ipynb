{
 "cells": [
  {
   "cell_type": "markdown",
   "metadata": {},
   "source": [
    "Práctica 4: Entrenamiento de redes neuronales\n",
    "===\n",
    "Autores: Lidia Concepción Echeverría y Francisco Ponce Belmonte\n",
    "---"
   ]
  },
  {
   "cell_type": "code",
   "execution_count": 1,
   "metadata": {},
   "outputs": [],
   "source": [
    "from scipy.io import loadmat\n",
    "import numpy as np\n",
    "import math\n",
    "import matplotlib.pyplot as plt\n",
    "import scipy.optimize as opt"
   ]
  },
  {
   "cell_type": "markdown",
   "metadata": {},
   "source": [
    "Carga de datos, utilizando el mismo dataset de la práctica anterior.\n",
    "\n",
    "Inicializamos ya los valores dependientes de theta que utilizaremos en funciones posteriores."
   ]
  },
  {
   "cell_type": "code",
   "execution_count": 2,
   "metadata": {},
   "outputs": [],
   "source": [
    "data = loadmat('ex4data1.mat')\n",
    "y = data['y']\n",
    "x = data['X']\n",
    "y = np.array(y.T)[0]\n",
    "\n",
    "weights = loadmat('ex4weights.mat')\n",
    "theta1, theta2 = weights['Theta1'], weights['Theta2']\n",
    "    \n",
    "params = np.concatenate((np.ravel(theta1),np.ravel(theta2)))\n",
    "num_entradas = theta1.shape[1]-1\n",
    "num_ocultas = theta1.shape[0]\n",
    "num_etiquetas = 10"
   ]
  },
  {
   "cell_type": "markdown",
   "metadata": {},
   "source": [
    "Función de coste\n",
    "---\n",
    "Implementadas función sigmoide, de propagacion y de coste (sin regularizar)."
   ]
  },
  {
   "cell_type": "code",
   "execution_count": 3,
   "metadata": {},
   "outputs": [],
   "source": [
    "def sigmoide(z):\n",
    "    s = np.dot(z,-1)\n",
    "    e = np.exp(s)\n",
    "    d = 1 + e\n",
    "    return 1/d"
   ]
  },
  {
   "cell_type": "code",
   "execution_count": 4,
   "metadata": {},
   "outputs": [],
   "source": [
    "def coste(h,Y,num_etiquetas):  \n",
    "    c = 0\n",
    "    for i in range(num_etiquetas):\n",
    "        y = (Y==i+1)*1\n",
    "        c += sum(-y*(np.log(h[i])) - (1-y)*(np.log(1-h[i])))\n",
    "        \n",
    "    return c / Y.shape[0]"
   ]
  },
  {
   "cell_type": "markdown",
   "metadata": {},
   "source": [
    "Cálculo del gradiente.\n",
    "===\n",
    "Cálculo de la derivada de la función sigmoide "
   ]
  },
  {
   "cell_type": "code",
   "execution_count": 5,
   "metadata": {},
   "outputs": [],
   "source": [
    "def deriv_sig(Z):\n",
    "    sig = sigmoide(Z)\n",
    "    return sig * (1 - sig)"
   ]
  },
  {
   "cell_type": "markdown",
   "metadata": {},
   "source": [
    "Función que inicializa theta de forma aleatoria."
   ]
  },
  {
   "cell_type": "code",
   "execution_count": 6,
   "metadata": {},
   "outputs": [],
   "source": [
    "def pesosAleatorios(L_in, L_out):   \n",
    "    e_ini = 0.12\n",
    "    pesos = np.random.uniform(-e_ini,e_ini,size=(L_out, L_in+1))\n",
    "    return pesos"
   ]
  },
  {
   "cell_type": "markdown",
   "metadata": {},
   "source": [
    "Función auxiliar para la salida de la capa 2."
   ]
  },
  {
   "cell_type": "code",
   "execution_count": 7,
   "metadata": {},
   "outputs": [],
   "source": [
    "def prop(X,th1,th2): \n",
    "    a1 = sigmoide(np.dot(X, th1.T))\n",
    "    a1 = np.concatenate((np.ones([a1.shape[0],1]),a1),axis=1)\n",
    "    a2 = sigmoide(np.dot(a1, th2.T))\n",
    "    \n",
    "    return a2"
   ]
  },
  {
   "cell_type": "markdown",
   "metadata": {},
   "source": [
    "Función de retro-propagación (regularizada)\n",
    "---\n",
    "Calcula todos los valores de salida (a) y los valores sigma (s) auxiliares para calcular el gradiente (grad) y su acumulación (delta), según las instrucciones dadas en la práctica. "
   ]
  },
  {
   "cell_type": "code",
   "execution_count": 8,
   "metadata": {},
   "outputs": [],
   "source": [
    "def retro_prop(X, Y, th1, th2, reg, num_etiquetas):    \n",
    "    a1 = sigmoide(np.dot(X, theta1.T))\n",
    "    a2 = np.concatenate((np.ones([a1.shape[0],1]),a1),axis=1)\n",
    "    a3 = sigmoide(np.dot(a2, theta2.T))\n",
    "    \n",
    "    y = np.zeros((Y.shape[0],num_etiquetas))    \n",
    "    for i in range (num_etiquetas):\n",
    "        y[i, Y[i]-1] = 1 \n",
    "        \n",
    "    s3 = a3 - y\n",
    "    s2 = np.dot(s3, th2)[:,1:]\n",
    "    s2 = s2 * deriv_sig(np.dot(X, th1.T))\n",
    "    delta1 = np.dot(s2.T, X)\n",
    "    delta2 = np.dot(s3.T, a2)\n",
    "\n",
    "    m = Y.shape[0]\n",
    "    grad1 = delta1/m\n",
    "    grad2 = delta2/m\n",
    "    \n",
    "    th1[:,1]=0\n",
    "    th2[:,1]=0\n",
    "    grad1 = grad1+(reg/m)*th1\n",
    "    grad2 = grad2+(reg/m)*th2\n",
    "    \n",
    "    return np.concatenate((np.ravel(grad1),np.ravel(grad2))) "
   ]
  },
  {
   "cell_type": "markdown",
   "metadata": {},
   "source": [
    "Función de coste, añadiendo el término de regularización."
   ]
  },
  {
   "cell_type": "code",
   "execution_count": 9,
   "metadata": {},
   "outputs": [],
   "source": [
    "def coste_reg(h, Y, th1, th2, num_etiquetas, reg):\n",
    "    m = Y.shape[0]\n",
    "    th1[0] = 0\n",
    "    th2[0] = 0\n",
    "    c = coste(h,Y,num_etiquetas)\n",
    "    c += (sum(sum(th1**2)) + sum(sum(th2**2))) * (reg/m*2)\n",
    "       \n",
    "    return c"
   ]
  },
  {
   "cell_type": "markdown",
   "metadata": {},
   "source": [
    "Función de back-propagation, calcula el coste y el gradiente con las dos funciones anteriores, en versión regularizada. "
   ]
  },
  {
   "cell_type": "code",
   "execution_count": 10,
   "metadata": {},
   "outputs": [],
   "source": [
    "def backprop (params_rn, num_entradas, num_ocultas, num_etiquetas, X, Y, reg ):\n",
    "    th1 = np.reshape(params_rn [:num_ocultas * (num_entradas + 1)], (num_ocultas, (num_entradas + 1)))\n",
    "    th2 = np.reshape(params_rn [num_ocultas * (num_entradas + 1):], (num_etiquetas, (num_ocultas + 1)))\n",
    "    \n",
    "    X = np.concatenate((np.ones([X.shape[0],1]),X),axis=1)    \n",
    "    \n",
    "    p = prop(X,th1,th2).T\n",
    "\n",
    "    coste = coste_reg(p, Y, th1, th2, num_etiquetas, reg)\n",
    "    grad = retro_prop(X, Y, th1, th2, reg, num_etiquetas)\n",
    "\n",
    "    return coste, grad"
   ]
  },
  {
   "cell_type": "markdown",
   "metadata": {},
   "source": [
    "Aprendizaje de los parámetros de la red neuronal\n",
    "---\n",
    "Para entrenar a la red, utilizamos la función minimize y luego comprobamos el porcentaje de predicciones correctas con los datos dados."
   ]
  },
  {
   "cell_type": "code",
   "execution_count": 11,
   "metadata": {},
   "outputs": [],
   "source": [
    "def aprendNN(X, Y, params, num_entradas, num_ocultas, num_etiquetas, lamb):\n",
    "    fmin = opt.minimize(fun=backprop, x0=params, \n",
    "                        args=(num_entradas, num_ocultas, num_etiquetas, X, Y, lamb),\n",
    "                        method='TNC', jac=True, options={'maxiter':50})\n",
    "    \n",
    "    theta1 = np.reshape(fmin.x [:num_ocultas * (num_entradas + 1)], (num_ocultas, (num_entradas + 1)))\n",
    "    theta2 = np.reshape(fmin.x [num_ocultas * (num_entradas + 1):], (num_etiquetas, (num_ocultas + 1)))\n",
    "    \n",
    "    X = np.concatenate((np.ones([X.shape[0],1]),X),axis=1)\n",
    "    \n",
    "    res = prop(X,theta1,theta2)   \n",
    "    result = np.argmax(res,axis=1)     \n",
    "    result = (result+1 == (Y))*1\n",
    "    \n",
    "    porcentaje = (sum(result)*100) / Y.shape[0]\n",
    "\n",
    "    return porcentaje"
   ]
  },
  {
   "cell_type": "code",
   "execution_count": 12,
   "metadata": {},
   "outputs": [
    {
     "data": {
      "text/plain": [
       "94.02"
      ]
     },
     "execution_count": 12,
     "metadata": {},
     "output_type": "execute_result"
    }
   ],
   "source": [
    "aprendNN(x,y,params,num_entradas, num_ocultas, num_etiquetas, 1)"
   ]
  }
 ],
 "metadata": {
  "kernelspec": {
   "display_name": "Python 3",
   "language": "python",
   "name": "python3"
  },
  "language_info": {
   "codemirror_mode": {
    "name": "ipython",
    "version": 3
   },
   "file_extension": ".py",
   "mimetype": "text/x-python",
   "name": "python",
   "nbconvert_exporter": "python",
   "pygments_lexer": "ipython3",
   "version": "3.6.7"
  }
 },
 "nbformat": 4,
 "nbformat_minor": 2
}
